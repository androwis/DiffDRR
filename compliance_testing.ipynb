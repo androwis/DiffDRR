{
 "cells": [
  {
   "cell_type": "code",
   "execution_count": 1,
   "id": "80496bb9",
   "metadata": {},
   "outputs": [],
   "source": [
    "import torch\n",
    "\n",
    "from diffdrr import DRR, load_example_ct"
   ]
  },
  {
   "cell_type": "code",
   "execution_count": 2,
   "id": "7d2f2ac5",
   "metadata": {},
   "outputs": [],
   "source": [
    "volume, spacing = load_example_ct()\n",
    "\n",
    "params = torch.tensor([[250.0, 3.14, 0.0, 1.57, 150.0, 150.0, 150.0]])\n",
    "\n",
    "drr = DRR(\n",
    "    volume,\n",
    "    spacing,\n",
    "    height=100,\n",
    "    delx=8.0,\n",
    "    params=params\n",
    ").to(device=\"cuda\", dtype=torch.float64)"
   ]
  },
  {
   "cell_type": "code",
   "execution_count": 3,
   "id": "3fe5628a",
   "metadata": {},
   "outputs": [],
   "source": [
    "img = drr()"
   ]
  },
  {
   "cell_type": "code",
   "execution_count": 4,
   "id": "2e9ea240-dc75-442e-965e-3bbca72bac65",
   "metadata": {},
   "outputs": [
    {
     "data": {
      "text/plain": [
       "torch.Size([1, 100, 100])"
      ]
     },
     "execution_count": 4,
     "metadata": {},
     "output_type": "execute_result"
    }
   ],
   "source": [
    "img.shape"
   ]
  },
  {
   "cell_type": "code",
   "execution_count": null,
   "id": "16e2985f-ada3-4312-9734-5fe2b416b702",
   "metadata": {},
   "outputs": [],
   "source": []
  }
 ],
 "metadata": {
  "kernelspec": {
   "display_name": "Python [conda env:DiffDRR]",
   "language": "python",
   "name": "conda-env-DiffDRR-py"
  },
  "language_info": {
   "codemirror_mode": {
    "name": "ipython",
    "version": 3
   },
   "file_extension": ".py",
   "mimetype": "text/x-python",
   "name": "python",
   "nbconvert_exporter": "python",
   "pygments_lexer": "ipython3",
   "version": "3.8.15"
  }
 },
 "nbformat": 4,
 "nbformat_minor": 5
}
