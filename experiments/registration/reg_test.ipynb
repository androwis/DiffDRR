{
 "cells": [
  {
   "cell_type": "code",
   "execution_count": 1,
   "id": "168546d8-3315-4a14-8a8f-53e3e436ae8f",
   "metadata": {},
   "outputs": [],
   "source": [
    "import csv\n",
    "import time\n",
    "from pathlib import Path\n",
    "\n",
    "import click\n",
    "import numpy as np\n",
    "import torch\n",
    "from tqdm import tqdm\n",
    "\n",
    "from diffdrr import DRR, load_example_ct\n",
    "from diffdrr.metrics import XCorr2"
   ]
  },
  {
   "cell_type": "code",
   "execution_count": 2,
   "id": "fb518e3b-2a34-45c5-ba0d-d0bc862c761b",
   "metadata": {},
   "outputs": [],
   "source": [
    "def get_true_drr():\n",
    "    volume, spacing = load_example_ct()\n",
    "    bx, by, bz = np.array(volume.shape) * np.array(spacing) / 2\n",
    "    true_params = {\n",
    "        \"sdr\": 200.0,\n",
    "        \"theta\": torch.pi,\n",
    "        \"phi\": 0,\n",
    "        \"gamma\": torch.pi / 2,\n",
    "        \"bx\": bx,\n",
    "        \"by\": by,\n",
    "        \"bz\": bz,\n",
    "    }\n",
    "    return volume, spacing, true_params\n",
    "\n",
    "\n",
    "def get_initial_parameters(true_params):\n",
    "    sdr = true_params[\"sdr\"]\n",
    "    theta = true_params[\"theta\"] + np.random.uniform(-np.pi / 4, np.pi / 4)\n",
    "    phi = true_params[\"phi\"] + np.random.uniform(-np.pi / 3, np.pi / 3)\n",
    "    gamma = true_params[\"gamma\"] + np.random.uniform(-np.pi / 3, np.pi / 3)\n",
    "    bx = true_params[\"bx\"] + np.random.uniform(-30.0, 31.0)\n",
    "    by = true_params[\"by\"] + np.random.uniform(-30.0, 31.0)\n",
    "    bz = true_params[\"bz\"] + np.random.uniform(-30.0, 31.0)\n",
    "    return sdr, theta, phi, gamma, bx, by, bz"
   ]
  },
  {
   "cell_type": "code",
   "execution_count": 3,
   "id": "603b08b1-a764-4d41-8136-d8374f0be5fc",
   "metadata": {},
   "outputs": [],
   "source": [
    "# Get the ground truth DRR\n",
    "volume, spacing, true_params = get_true_drr()\n",
    "drr = DRR(volume, spacing, height=100, delx=5e-2, device=\"cuda\")\n",
    "ground_truth = drr(**true_params)"
   ]
  },
  {
   "cell_type": "code",
   "execution_count": 4,
   "id": "800c6b84-0a46-4726-abb2-aa2f40307988",
   "metadata": {},
   "outputs": [
    {
     "data": {
      "text/plain": [
       "Parameter containing:\n",
       "tensor([200.], device='cuda:0')\n",
       "Parameter containing:\n",
       "tensor([[3.1416, 0.0000, 1.5708]], device='cuda:0', requires_grad=True)\n",
       "Parameter containing:\n",
       "tensor([[180.0000, 180.0000, 166.2500]], device='cuda:0', requires_grad=True)"
      ]
     },
     "execution_count": 4,
     "metadata": {},
     "output_type": "execute_result"
    }
   ],
   "source": [
    "drr"
   ]
  },
  {
   "cell_type": "code",
   "execution_count": 11,
   "id": "9fcac2ff-6f50-4895-b7eb-37987560f37e",
   "metadata": {},
   "outputs": [],
   "source": [
    "# Initialize the DRR and optimization parameters\n",
    "sdr, theta, phi, gamma, bx, by, bz = get_initial_parameters(true_params)\n",
    "_ = drr(sdr, theta, phi, gamma, bx, by, bz)  # Initialize the DRR generator\n",
    "criterion = XCorr2(zero_mean_normalized=True)\n",
    "optimizer = torch.optim.LBFGS([drr.rotations, drr.translations], line_search_fn=\"strong_wolfe\")"
   ]
  },
  {
   "cell_type": "code",
   "execution_count": 12,
   "id": "49969d94-6fe1-4c6f-b1d0-9db8486c0987",
   "metadata": {},
   "outputs": [
    {
     "data": {
      "text/plain": [
       "Parameter containing:\n",
       "tensor([200.], device='cuda:0')\n",
       "Parameter containing:\n",
       "tensor([[ 3.2534, -0.0300,  1.3338]], device='cuda:0', requires_grad=True)\n",
       "Parameter containing:\n",
       "tensor([[150.3246, 151.7261, 189.0789]], device='cuda:0', requires_grad=True)"
      ]
     },
     "execution_count": 12,
     "metadata": {},
     "output_type": "execute_result"
    }
   ],
   "source": [
    "drr"
   ]
  },
  {
   "cell_type": "code",
   "execution_count": 13,
   "id": "9985a608-bdd2-45e8-bee8-f15a4370edda",
   "metadata": {},
   "outputs": [
    {
     "data": {
      "text/plain": [
       "tensor([-0.7001], device='cuda:0', grad_fn=<NegBackward0>)"
      ]
     },
     "execution_count": 13,
     "metadata": {},
     "output_type": "execute_result"
    }
   ],
   "source": [
    "-criterion(ground_truth, drr())"
   ]
  },
  {
   "cell_type": "code",
   "execution_count": 14,
   "id": "19b02394-6b42-4a9a-902b-ae38a41e6e67",
   "metadata": {},
   "outputs": [
    {
     "name": "stderr",
     "output_type": "stream",
     "text": [
      "  4%|███▎                                                                                | 4/100 [00:04<01:51,  1.16s/it]\n"
     ]
    }
   ],
   "source": [
    "for _ in tqdm(range(100)):\n",
    "    def closure(drr=drr, ground_truth=ground_truth):\n",
    "        optimizer.zero_grad()\n",
    "        estimate = drr()\n",
    "        loss = -criterion(ground_truth, estimate)\n",
    "        loss.backward(retain_graph=True)\n",
    "        if loss < -0.999:\n",
    "            raise StopIteration\n",
    "        return loss\n",
    "    \n",
    "    try:\n",
    "        optimizer.step(closure)\n",
    "    except StopIteration:\n",
    "        break"
   ]
  },
  {
   "cell_type": "code",
   "execution_count": 15,
   "id": "596f517d-fb47-4214-9ac1-e5ebcf91ea63",
   "metadata": {},
   "outputs": [
    {
     "data": {
      "text/plain": [
       "Parameter containing:\n",
       "tensor([200.], device='cuda:0')\n",
       "Parameter containing:\n",
       "tensor([[3.1327, 0.0045, 1.5744]], device='cuda:0', requires_grad=True)\n",
       "Parameter containing:\n",
       "tensor([[180.0062, 180.1529, 165.1486]], device='cuda:0', requires_grad=True)"
      ]
     },
     "execution_count": 15,
     "metadata": {},
     "output_type": "execute_result"
    }
   ],
   "source": [
    "drr"
   ]
  },
  {
   "cell_type": "code",
   "execution_count": 16,
   "id": "3fa41f9a-b5ed-4aba-a2f5-ad720b0a202a",
   "metadata": {},
   "outputs": [
    {
     "data": {
      "text/plain": [
       "tensor([-0.9991], device='cuda:0', grad_fn=<NegBackward0>)"
      ]
     },
     "execution_count": 16,
     "metadata": {},
     "output_type": "execute_result"
    }
   ],
   "source": [
    "-criterion(ground_truth, drr())"
   ]
  },
  {
   "cell_type": "code",
   "execution_count": null,
   "id": "bc612a4f-60c9-4922-a385-b6856ed0a2ad",
   "metadata": {},
   "outputs": [],
   "source": []
  }
 ],
 "metadata": {
  "kernelspec": {
   "display_name": "Python [conda env:DiffDRR]",
   "language": "python",
   "name": "conda-env-DiffDRR-py"
  },
  "language_info": {
   "codemirror_mode": {
    "name": "ipython",
    "version": 3
   },
   "file_extension": ".py",
   "mimetype": "text/x-python",
   "name": "python",
   "nbconvert_exporter": "python",
   "pygments_lexer": "ipython3",
   "version": "3.7.13"
  }
 },
 "nbformat": 4,
 "nbformat_minor": 5
}
