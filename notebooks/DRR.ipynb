{
 "cells": [
  {
   "cell_type": "code",
   "execution_count": 1,
   "id": "e374f914",
   "metadata": {},
   "outputs": [],
   "source": [
    "import matplotlib.pyplot as plt\n",
    "import torch\n",
    "from tqdm.autonotebook import tqdm \n",
    "\n",
    "from src import read_dicom, Detector, Siddon"
   ]
  },
  {
   "cell_type": "code",
   "execution_count": 2,
   "id": "8af17854",
   "metadata": {},
   "outputs": [],
   "source": [
    "volume, spacing = read_dicom(\"../data/cxr/\")\n",
    "volume = torch.tensor(volume)\n",
    "siddon = Siddon(spacing=spacing, center=[0.0, 0.0, 0.0], volume=volume)"
   ]
  },
  {
   "cell_type": "code",
   "execution_count": 3,
   "id": "40dda760",
   "metadata": {},
   "outputs": [],
   "source": [
    "source = [-10., -10., -15.]\n",
    "target = [400., 375., 350.]\n",
    "\n",
    "detector = Detector(\n",
    "    source=source,\n",
    "    center=target,\n",
    "    height=25,\n",
    "    width=25,\n",
    "    delx=1.,\n",
    "    dely=1.,\n",
    ")\n",
    "\n",
    "rays = detector.make_xrays()"
   ]
  },
  {
   "cell_type": "code",
   "execution_count": 4,
   "id": "9c55387a",
   "metadata": {},
   "outputs": [
    {
     "data": {
      "application/vnd.jupyter.widget-view+json": {
       "model_id": "27250a8b552543ccb2506acb9abbd228",
       "version_major": 2,
       "version_minor": 0
      },
      "text/plain": [
       "  0%|          | 0/625 [00:00<?, ?it/s]"
      ]
     },
     "metadata": {},
     "output_type": "display_data"
    }
   ],
   "source": [
    "drr = [siddon.raytrace(source, target) for source, target in tqdm(rays)]\n",
    "drr = torch.tensor(drr)\n",
    "drr = drr.reshape(25, 25)"
   ]
  },
  {
   "cell_type": "code",
   "execution_count": 6,
   "id": "d9e729f8",
   "metadata": {},
   "outputs": [
    {
     "data": {
      "image/png": "[encoded data removed]",
      "text/plain": [
       "<Figure size 432x288 with 1 Axes>"
      ]
     },
     "metadata": {
      "needs_background": "light"
     },
     "output_type": "display_data"
    }
   ],
   "source": [
    "plt.imshow(drr, cmap=\"gray\")\n",
    "plt.show()"
   ]
  },
  {
   "cell_type": "code",
   "execution_count": null,
   "id": "44828943",
   "metadata": {},
   "outputs": [],
   "source": []
  }
 ],
 "metadata": {
  "@webio": {
   "lastCommId": null,
   "lastKernelId": null
  },
  "kernelspec": {
   "display_name": "Python [conda env:diffdrr]",
   "language": "python",
   "name": "conda-env-diffdrr-py"
  },
  "language_info": {
   "codemirror_mode": {
    "name": "ipython",
    "version": 3
   },
   "file_extension": ".py",
   "mimetype": "text/x-python",
   "name": "python",
   "nbconvert_exporter": "python",
   "pygments_lexer": "ipython3",
   "version": "3.8.13"
  }
 },
 "nbformat": 4,
 "nbformat_minor": 5
}
