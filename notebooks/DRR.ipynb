{
 "cells": [
  {
   "cell_type": "code",
   "execution_count": 1,
   "id": "1ecded09",
   "metadata": {},
   "outputs": [],
   "source": [
    "import matplotlib.pyplot as plt\n",
    "import torch\n",
    "from tqdm.autonotebook import tqdm\n",
    "\n",
    "from src import read_dicom, Detector, Siddon"
   ]
  },
  {
   "cell_type": "code",
   "execution_count": 2,
   "id": "7620f32b",
   "metadata": {},
   "outputs": [],
   "source": [
    "volume, spacing = read_dicom(\"../data/cxr/\")\n",
    "volume = torch.tensor(volume)\n",
    "siddon = Siddon(spacing=spacing, isocenter=[0.0, 0.0, 0.0], volume=volume)"
   ]
  },
  {
   "cell_type": "code",
   "execution_count": 3,
   "id": "4c3ad7c0",
   "metadata": {},
   "outputs": [
    {
     "data": {
      "text/plain": [
       "torch.Size([5, 5, 3])"
      ]
     },
     "execution_count": 3,
     "metadata": {},
     "output_type": "execute_result"
    }
   ],
   "source": [
    "source = [-10., -12., -15.]\n",
    "target = [400., 375., 350.]\n",
    "\n",
    "detector = Detector(\n",
    "    source=source,\n",
    "    center=target,\n",
    "    height=5,\n",
    "    width=5,\n",
    "    delx=1.,\n",
    "    dely=1.,\n",
    ")\n",
    "\n",
    "targets = detector.make_xrays()\n",
    "targets.shape  # shape = (detector.height, detector.weight, 3)"
   ]
  },
  {
   "cell_type": "code",
   "execution_count": 4,
   "id": "c9fbe06f",
   "metadata": {},
   "outputs": [],
   "source": [
    "# Maybe don't need\n",
    "def make_big(tensor, height=detector.height, width=detector.width):\n",
    "    \"\"\"Copy a 3-vector to a tensor of shape (3, height, width)\"\"\"\n",
    "    return tensor.repeat(height, width, 1).transpose(0, 2)\n",
    "\n",
    "\n",
    "# Make sources big!\n",
    "# sources = make_big(detector.source)\n",
    "# sources"
   ]
  },
  {
   "cell_type": "code",
   "execution_count": 5,
   "id": "597b62f9",
   "metadata": {},
   "outputs": [
    {
     "data": {
      "text/plain": [
       "torch.Size([5, 5, 3])"
      ]
     },
     "execution_count": 5,
     "metadata": {},
     "output_type": "execute_result"
    }
   ],
   "source": [
    "# Source-to-detector distance\n",
    "sdd = targets - detector.source\n",
    "sdd.shape"
   ]
  },
  {
   "cell_type": "code",
   "execution_count": 6,
   "id": "2d9bd685",
   "metadata": {},
   "outputs": [
    {
     "name": "stdout",
     "output_type": "stream",
     "text": [
      "torch.Size([2, 5, 5, 3])\n",
      "torch.Size([5, 5, 3])\n",
      "torch.Size([5, 5, 1])\n"
     ]
    }
   ],
   "source": [
    "### GET ALPHA MINMAX\n",
    "\n",
    "# Get intersection with first planes\n",
    "planes = torch.tensor([0, 0, 0])\n",
    "alpha0 = (siddon.isocenter + planes * siddon.spacing - detector.source) / sdd\n",
    "\n",
    "# Get intersection with last planes\n",
    "planes = siddon.dims - 1\n",
    "alpha1 = (siddon.isocenter + planes * siddon.spacing - detector.source) / sdd\n",
    "\n",
    "# Merge intersections\n",
    "alphas = torch.stack([alpha0, alpha1])\n",
    "print(alphas.shape)\n",
    "\n",
    "minis = alphas.min(dim=0).values\n",
    "maxis = alphas.max(dim=0).values\n",
    "print(maxis.shape)\n",
    "\n",
    "alphamin = minis.max(dim=-1, keepdim=True).values\n",
    "alphamax = maxis.min(dim=-1, keepdim=True).values\n",
    "print(alphamax.shape)"
   ]
  },
  {
   "cell_type": "code",
   "execution_count": 7,
   "id": "492aba6f",
   "metadata": {
    "scrolled": true
   },
   "outputs": [
    {
     "name": "stdout",
     "output_type": "stream",
     "text": [
      "torch.Size([5, 5, 3])\n"
     ]
    }
   ],
   "source": [
    "### GET IDX MINMAX\n",
    "\n",
    "# Get idx minmax\n",
    "idxmin = ((alphamin * sdd) + detector.source - siddon.isocenter) / siddon.spacing\n",
    "idxmax = ((alphamax * sdd) + detector.source - siddon.isocenter) / siddon.spacing\n",
    "\n",
    "# source < target\n",
    "# get minidx\n",
    "a = (alphamin == minis) * torch.ones(3)\n",
    "b = (alphamin != minis) * (idxmin + 1).trunc()\n",
    "# get maxidx\n",
    "c = (alphamax == maxis) * (siddon.dims - 1)\n",
    "d = (alphamax != maxis) * idxmax.trunc()\n",
    "# source > target\n",
    "# get minidx\n",
    "e = (alphamax == maxis) * torch.ones(3)\n",
    "f = (alphamax != maxis) * (idxmax + 1).trunc()\n",
    "# get maxidx\n",
    "g = (alphamin == minis) * (siddon.dims - 2)\n",
    "h = (alphamin != minis) * idxmin.trunc()\n",
    "\n",
    "minidx = (detector.source < targets) * (a + b) + (detector.source >= targets) * (e + f)\n",
    "maxidx = (detector.source < targets) * (c + d) + (detector.source >= targets) * (g + h)\n",
    "print(minidx.shape)"
   ]
  },
  {
   "cell_type": "code",
   "execution_count": 8,
   "id": "416fb5c5",
   "metadata": {},
   "outputs": [
    {
     "name": "stdout",
     "output_type": "stream",
     "text": [
      "torch.Size([512, 512, 133, 3])\n",
      "torch.Size([512, 512, 133, 5, 5, 3])\n"
     ]
    }
   ],
   "source": [
    "# Get the alphas for the entire volume\n",
    "nx, ny, nz = (siddon.dims - 1).to(int).tolist()\n",
    "idxx = torch.arange(0, nx)\n",
    "idxy = torch.arange(0, ny)\n",
    "idxz = torch.arange(0, nz)\n",
    "idxs = torch.cartesian_prod(idxx, idxy, idxz).reshape(nx, ny, nz, 3)\n",
    "# idxs = idxs.permute((3, 0, 1, 2))\n",
    "print(idxs.shape)\n",
    "\n",
    "alphas = (idxs - detector.source).expand((5, 5, -1, -1, -1, -1)).permute(2, 3, 4, 0, 1, 5) / sdd\n",
    "print(alphas.shape)"
   ]
  },
  {
   "cell_type": "code",
   "execution_count": 28,
   "id": "5b572431",
   "metadata": {},
   "outputs": [
    {
     "data": {
      "text/plain": [
       "torch.Size([5, 5, 3])"
      ]
     },
     "execution_count": 28,
     "metadata": {},
     "output_type": "execute_result"
    }
   ],
   "source": [
    "minidx.shape"
   ]
  },
  {
   "cell_type": "code",
   "execution_count": 26,
   "id": "c101728b",
   "metadata": {},
   "outputs": [
    {
     "data": {
      "text/plain": [
       "tensor([[[10.,  6.,  1.],\n",
       "         [10.,  6.,  1.],\n",
       "         [10.,  6.,  1.],\n",
       "         [10.,  6.,  1.],\n",
       "         [10.,  6.,  1.]],\n",
       "\n",
       "        [[10.,  6.,  1.],\n",
       "         [10.,  6.,  1.],\n",
       "         [10.,  6.,  1.],\n",
       "         [10.,  6.,  1.],\n",
       "         [10.,  6.,  1.]],\n",
       "\n",
       "        [[10.,  6.,  1.],\n",
       "         [10.,  6.,  1.],\n",
       "         [10.,  6.,  1.],\n",
       "         [10.,  6.,  1.],\n",
       "         [10.,  6.,  1.]],\n",
       "\n",
       "        [[10.,  6.,  1.],\n",
       "         [10.,  6.,  1.],\n",
       "         [10.,  6.,  1.],\n",
       "         [10.,  6.,  1.],\n",
       "         [10.,  6.,  1.]],\n",
       "\n",
       "        [[10.,  6.,  1.],\n",
       "         [10.,  6.,  1.],\n",
       "         [10.,  6.,  1.],\n",
       "         [10.,  6.,  1.],\n",
       "         [10.,  6.,  1.]]], dtype=torch.float64, grad_fn=<AddBackward0>)"
      ]
     },
     "execution_count": 26,
     "metadata": {},
     "output_type": "execute_result"
    }
   ],
   "source": [
    "minidx"
   ]
  },
  {
   "cell_type": "code",
   "execution_count": 27,
   "id": "88679e12",
   "metadata": {},
   "outputs": [
    {
     "data": {
      "text/plain": [
       "tensor([[[512., 483., 127.],\n",
       "         [512., 483., 126.],\n",
       "         [512., 483., 126.],\n",
       "         [512., 483., 125.],\n",
       "         [512., 483., 125.]],\n",
       "\n",
       "        [[512., 481., 126.],\n",
       "         [512., 481., 126.],\n",
       "         [512., 481., 125.],\n",
       "         [512., 481., 125.],\n",
       "         [512., 481., 125.]],\n",
       "\n",
       "        [[512., 479., 126.],\n",
       "         [512., 479., 126.],\n",
       "         [512., 479., 125.],\n",
       "         [512., 479., 125.],\n",
       "         [512., 479., 124.]],\n",
       "\n",
       "        [[512., 477., 126.],\n",
       "         [512., 477., 125.],\n",
       "         [512., 477., 125.],\n",
       "         [512., 477., 125.],\n",
       "         [512., 477., 124.]],\n",
       "\n",
       "        [[512., 476., 126.],\n",
       "         [512., 476., 125.],\n",
       "         [512., 476., 125.],\n",
       "         [512., 476., 124.],\n",
       "         [512., 476., 124.]]], dtype=torch.float64, grad_fn=<AddBackward0>)"
      ]
     },
     "execution_count": 27,
     "metadata": {},
     "output_type": "execute_result"
    }
   ],
   "source": [
    "maxidx"
   ]
  },
  {
   "cell_type": "code",
   "execution_count": null,
   "id": "64e52157",
   "metadata": {},
   "outputs": [],
   "source": []
  }
 ],
 "metadata": {
  "@webio": {
   "lastCommId": null,
   "lastKernelId": null
  },
  "kernelspec": {
   "display_name": "Python [conda env:diffdrr]",
   "language": "python",
   "name": "conda-env-diffdrr-py"
  },
  "language_info": {
   "codemirror_mode": {
    "name": "ipython",
    "version": 3
   },
   "file_extension": ".py",
   "mimetype": "text/x-python",
   "name": "python",
   "nbconvert_exporter": "python",
   "pygments_lexer": "ipython3",
   "version": "3.8.13"
  },
  "vscode": {
   "interpreter": {
    "hash": "a07792657c3cdb388b26fe29b4012dac9177e7bac45c1f752a3d71c841d4ae0d"
   }
  }
 },
 "nbformat": 4,
 "nbformat_minor": 5
}
