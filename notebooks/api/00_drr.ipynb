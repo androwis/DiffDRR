{
 "cells": [
  {
   "cell_type": "raw",
   "metadata": {},
   "source": [
    "---\n",
    "description: Module for computing digitally reconstructed radiographs\n",
    "output-file: drr.html\n",
    "title: DRR\n",
    "\n",
    "---\n",
    "\n"
   ]
  },
  {
   "cell_type": "code",
   "execution_count": null,
   "id": "70fcd770",
   "metadata": {},
   "outputs": [],
   "source": [
    "#| default_exp drr"
   ]
  },
  {
   "cell_type": "code",
   "execution_count": null,
   "id": "8e5be32e",
   "metadata": {},
   "outputs": [],
   "source": [
    "#| hide\n",
    "from nbdev.showdoc import *"
   ]
  },
  {
   "cell_type": "code",
   "execution_count": null,
   "id": "ce95e1ac-413e-407b-87ad-0c7db3a945de",
   "metadata": {},
   "outputs": [],
   "source": [
    "#| export\n",
    "from __future__ import annotations\n",
    "\n",
    "import numpy as np\n",
    "import torch\n",
    "import torch.nn as nn\n",
    "\n",
    "from fastcore.basics import patch\n",
    "\n",
    "from diffdrr.siddon import siddon_raycast\n",
    "from diffdrr.detector import Detector\n",
    "from diffdrr.utils import reshape_subsampled_drr"
   ]
  },
  {
   "cell_type": "code",
   "execution_count": null,
   "id": "97297d06-6772-4dc7-8af5-d1ea7b379d8d",
   "metadata": {},
   "outputs": [],
   "source": [
    "#| export\n",
    "class DRR(nn.Module):\n",
    "    \"\"\"Torch module that computes differentiable digitally reconstructed radiographs.\"\"\"\n",
    "    \n",
    "    def __init__(\n",
    "        self,\n",
    "        volume: np.ndarray,  # CT volume\n",
    "        spacing: np.ndarray,  # Dimensions of voxels in the CT volume\n",
    "        height: int,  # Height of the rendered DRR\n",
    "        delx: float,  # X-axis pixel size\n",
    "        width: int | None = None,  # Width of the rendered DRR (if not provided, set to `height`)\n",
    "        dely: float | None = None,  # Y-axis pixel size (if not provided, set to `delx`)\n",
    "        p_subsample: float | None = None,  # Proportion of pixels to randomly subsample\n",
    "        reshape: bool = True,  # Return DRR with shape (b, h, w)\n",
    "        params: torch.Tensor | None = None,  # The parameters of the camera, including SDR, rotations, and translations\n",
    "        convention: str=\"diffdrr\",  # Either `diffdrr` or `deepdrr`, order of basis matrix multiplication\n",
    "    ):\n",
    "        super().__init__()\n",
    "    \n",
    "        if params is not None:\n",
    "            self.sdr = nn.Parameter(params[..., 0:1])\n",
    "            self.rotations = nn.Parameter(params[..., 1:4])\n",
    "            self.translations = nn.Parameter(params[..., 4:7])\n",
    "\n",
    "        # Initialize the X-ray detector\n",
    "        width = height if width is None else width\n",
    "        dely = delx if dely is None else dely\n",
    "        self.detector = Detector(\n",
    "            height,\n",
    "            width,\n",
    "            delx,\n",
    "            dely,\n",
    "            n_subsample=int(height * width * p_subsample)\n",
    "            if p_subsample is not None\n",
    "            else None,\n",
    "            convention=convention,\n",
    "        )\n",
    "\n",
    "        # Initialize the volume\n",
    "        self.register_buffer(\"spacing\", torch.tensor(spacing))\n",
    "        self.register_buffer(\"volume\", torch.tensor(volume).flip([0]))        \n",
    "        self.reshape = reshape\n",
    "\n",
    "        # Dummy tensor for device and dtype\n",
    "        self.register_buffer(\"dummy\", torch.tensor([0.0]))\n",
    "    \n",
    "    def reshape_transform(self, img, batch_size):\n",
    "        if self.reshape:\n",
    "            if self.detector.n_subsample is None:\n",
    "                img = img.view(-1, 1, self.detector.height, self.detector.width)\n",
    "            else:\n",
    "                img = reshape_subsampled_drr(img, self.detector, batch_size)\n",
    "        return img"
   ]
  },
  {
   "cell_type": "code",
   "execution_count": null,
   "id": "6891f668-4cf1-48cc-b0bd-ff5a09787863",
   "metadata": {},
   "outputs": [],
   "source": [
    "#| export\n",
    "@patch\n",
    "def _update_params(self: DRR, params: torch.Tensor):\n",
    "    state_dict = self.state_dict()\n",
    "    state_dict[\"sdr\"].copy_(params[..., 0:1])\n",
    "    state_dict[\"rotations\"].copy_(params[..., 1:4])\n",
    "    state_dict[\"translations\"].copy_(params[..., 4:7])"
   ]
  },
  {
   "cell_type": "markdown",
   "id": "dd4065c5-2c31-496f-8617-5743d0ea1c32",
   "metadata": {},
   "source": [
    "#### X-ray pose parameters\n",
    "\n",
    "The viewing angle for the DRR (known generally in computer graphics as *pose parameters*) is parameterized by the following:\n",
    "\n",
    "- `sdr`   : Source-to-Detector radius (half of the source-to-detector distance)\n",
    "- `theta` : Azimuthal angle\n",
    "- `phi`   : Polar angle\n",
    "- `gamma` : Plane rotation angle\n",
    "- `bx`    : X-dir translation\n",
    "- `by`    : Y-dir translation\n",
    "- `bz`    : Z-dir translation\n",
    "\n",
    "Translational `(bx, by, bz)` and rotational `(theta, phi, gamma)` parameters are grouped. The rotational pose parameters are detailed in [Spherical Coordiantes Tutorial](https://vivekg.dev/DiffDRR/tutorials/spherical.html)."
   ]
  },
  {
   "cell_type": "code",
   "execution_count": null,
   "id": "27b19dfc-6a15-4896-9faa-20faee84dc1f",
   "metadata": {},
   "outputs": [],
   "source": [
    "#| export\n",
    "@patch\n",
    "def forward(self: DRR):\n",
    "    \"\"\"Forward call if DRR has been initialized with params.\"\"\"\n",
    "    if any(param is None for param in [self.sdr, self.rotations, self.translations]):\n",
    "        raise ValueError(\"Pose parameters are uninitialized.\")\n",
    "    source, target = self.detector.make_xrays(\n",
    "        sdr=self.sdr,\n",
    "        rotations=self.rotations,\n",
    "        translations=self.translations,\n",
    "    )\n",
    "    img = siddon_raycast(source, target, self.volume, self.spacing)\n",
    "    return self.reshape_transform(img, batch_size=len(self.sdr))"
   ]
  },
  {
   "cell_type": "markdown",
   "id": "10bc1b2b-a444-45dc-8430-56646d54f95f",
   "metadata": {},
   "source": [
    "The forward pass of the `DRR` module can be used if the module has viewing angle stored as `nn.Parameters`. Either pass parameters to the constructor or use `_update_params` to set them.\n",
    "\n",
    "If `params` are passed to the `DRR` constructor, they are instantiated as `nn.Parameters` of the module. This makes them able to be optimized with any PyTorch optimizer."
   ]
  },
  {
   "cell_type": "code",
   "execution_count": null,
   "id": "c3c72eca-3aaa-4fad-8c19-be650f8642b2",
   "metadata": {},
   "outputs": [],
   "source": [
    "#| export\n",
    "@patch\n",
    "def project(\n",
    "    self: DRR,\n",
    "    sdr: float,\n",
    "    theta: float,\n",
    "    phi: float,\n",
    "    gamma: float,\n",
    "    bx: float,\n",
    "    by: float,\n",
    "    bz: float,\n",
    "):\n",
    "    sdr = torch.tensor([[sdr]]).to(self.dummy)\n",
    "    rotations = torch.tensor([[theta, phi, gamma]]).to(self.dummy)\n",
    "    translations = torch.tensor([[bx, by, bz]]).to(self.dummy)\n",
    "    source, target = self.detector.make_xrays(\n",
    "        sdr=sdr,\n",
    "        rotations=rotations,\n",
    "        translations=translations,\n",
    "    )\n",
    "    img = siddon_raycast(source, target, self.volume, self.spacing)\n",
    "    return self.reshape_transform(img, batch_size=len(sdr))"
   ]
  },
  {
   "cell_type": "markdown",
   "id": "7164b366-d58c-4e31-8bf4-7e7facbf3cea",
   "metadata": {},
   "source": [
    "Instead of initializing the `DRR` module with parameters, they can be passed to `project` to compute a DRR. This acts as a differentiable renderer (i.e., reconstruction), but is not differentiable with respect to the pose parameters (i.e., registration).\n",
    "\n",
    "**Note:** `.project` doesn't support batched DRR synthesis."
   ]
  },
  {
   "cell_type": "code",
   "execution_count": null,
   "id": "d95beb27",
   "metadata": {},
   "outputs": [],
   "source": [
    "#| hide\n",
    "import nbdev; nbdev.nbdev_export()"
   ]
  },
  {
   "cell_type": "code",
   "execution_count": null,
   "id": "7b1a9e0b-0daf-4f74-b1e1-3f79fb52ae6f",
   "metadata": {},
   "outputs": [],
   "source": []
  }
 ],
 "metadata": {
  "kernelspec": {
   "display_name": "python3",
   "language": "python",
   "name": "python3"
  }
 },
 "nbformat": 4,
 "nbformat_minor": 5
}
