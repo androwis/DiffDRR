{
 "cells": [
  {
   "cell_type": "markdown",
   "metadata": {},
   "source": [
    "# projectors\n",
    "\n",
    "> Mapping from ray to pixel intensity"
   ]
  },
  {
   "cell_type": "code",
   "execution_count": null,
   "metadata": {},
   "outputs": [],
   "source": [
    "#| default_exp projectors"
   ]
  },
  {
   "cell_type": "code",
   "execution_count": null,
   "metadata": {},
   "outputs": [],
   "source": [
    "#| hide\n",
    "from nbdev.showdoc import *"
   ]
  },
  {
   "cell_type": "code",
   "execution_count": null,
   "metadata": {},
   "outputs": [],
   "source": [
    "#| export\n",
    "import torch\n",
    "\n",
    "\n",
    "def siddon_raycast(source, target, volume, spacing, eps=1e-8):\n",
    "    dims = torch.tensor(volume.shape) + 1\n",
    "    alphas, maxidx = _get_alphas(source, target, spacing, dims, eps)\n",
    "    alphamid = (alphas[..., 0:-1] + alphas[..., 1:]) / 2\n",
    "    voxels = _get_voxel(alphamid, source, target, volume, spacing, dims, maxidx, eps)\n",
    "\n",
    "    # Step length for alphas out of range will be nan\n",
    "    # These nans cancel out voxels convereted to 0 index\n",
    "    step_length = torch.diff(alphas, dim=-1)\n",
    "    weighted_voxels = voxels * step_length\n",
    "\n",
    "    drr = torch.nansum(weighted_voxels, dim=-1)\n",
    "    raylength = (target - source + eps).norm(dim=-1)\n",
    "    drr *= raylength\n",
    "    return drr\n",
    "\n",
    "\n",
    "def _get_alphas(source, target, spacing, dims, eps):\n",
    "    # Get the CT sizing and spacing parameters\n",
    "    dx, dy, dz = spacing\n",
    "    nx, ny, nz = dims\n",
    "    maxidx = ((nx - 1) * (ny - 1) * (nz - 1)).int().item() - 1\n",
    "\n",
    "    # Get the alpha at each plane intersection\n",
    "    sx, sy, sz = source[..., 0], source[..., 1], source[..., 2]\n",
    "    alphax = torch.arange(nx).to(source) * dx\n",
    "    alphay = torch.arange(ny).to(source) * dy\n",
    "    alphaz = torch.arange(nz).to(source) * dz\n",
    "    alphax = alphax.expand(len(source), 1, -1) - sx.unsqueeze(-1)\n",
    "    alphay = alphay.expand(len(source), 1, -1) - sy.unsqueeze(-1)\n",
    "    alphaz = alphaz.expand(len(source), 1, -1) - sz.unsqueeze(-1)\n",
    "\n",
    "    sdd = target - source + eps\n",
    "    alphax = alphax / sdd[..., 0].unsqueeze(-1)\n",
    "    alphay = alphay / sdd[..., 1].unsqueeze(-1)\n",
    "    alphaz = alphaz / sdd[..., 2].unsqueeze(-1)\n",
    "    alphas = torch.cat([alphax, alphay, alphaz], dim=-1)\n",
    "\n",
    "    # # Get the alphas within the range [alphamin, alphamax]\n",
    "    alphamin, alphamax = _get_alpha_minmax(source, target, spacing, dims, eps)\n",
    "    good_idxs = torch.logical_and(alphas >= alphamin, alphas <= alphamax)\n",
    "    alphas[~good_idxs] = torch.nan\n",
    "\n",
    "    # # Sort the alphas by ray, putting nans at the end of the list\n",
    "    # # Drop indices where alphas for all rays are nan\n",
    "    alphas = torch.sort(alphas, dim=-1).values\n",
    "    alphas = alphas[..., ~alphas.isnan().all(dim=0).all(dim=0)]\n",
    "    return alphas, maxidx\n",
    "\n",
    "\n",
    "def _get_alpha_minmax(source, target, spacing, dims, eps):\n",
    "    sdd = target - source + eps\n",
    "    planes = torch.zeros(3).to(source)\n",
    "    alpha0 = (planes * spacing - source) / sdd\n",
    "    planes = (dims - 1).to(source)\n",
    "    alpha1 = (planes * spacing - source) / sdd\n",
    "    alphas = torch.stack([alpha0, alpha1]).to(source)\n",
    "\n",
    "    alphamin = alphas.min(dim=0).values.max(dim=-1).values.unsqueeze(-1)\n",
    "    alphamax = alphas.max(dim=0).values.min(dim=-1).values.unsqueeze(-1)\n",
    "    return alphamin, alphamax\n",
    "\n",
    "\n",
    "def _get_voxel(alpha, source, target, volume, spacing, dims, maxidx, eps):\n",
    "    idxs = _get_index(alpha, source, target, spacing, dims, maxidx, eps)\n",
    "    return torch.take(volume, idxs)\n",
    "\n",
    "\n",
    "def _get_index(alpha, source, target, spacing, dims, maxidx, eps):\n",
    "    sdd = target - source + eps\n",
    "    idxs = source.unsqueeze(1) + alpha.unsqueeze(-1) * sdd.unsqueeze(2)\n",
    "    idxs = idxs / spacing\n",
    "    idxs = idxs.trunc()\n",
    "    # Conversion to long makes nan->-inf, so temporarily replace them with 0\n",
    "    # This is cancelled out later by multiplication by nan step_length\n",
    "    idxs = (\n",
    "        idxs[..., 0] * (dims[1] - 1) * (dims[2] - 1)\n",
    "        + idxs[..., 1] * (dims[2] - 1)\n",
    "        + idxs[..., 2]\n",
    "    ).long() + 1\n",
    "    idxs[idxs < 0] = 0\n",
    "    idxs[idxs > maxidx] = maxidx\n",
    "    return idxs"
   ]
  },
  {
   "cell_type": "code",
   "execution_count": null,
   "metadata": {},
   "outputs": [],
   "source": [
    "#| hide\n",
    "import nbdev; nbdev.nbdev_export()"
   ]
  },
  {
   "cell_type": "code",
   "execution_count": null,
   "metadata": {},
   "outputs": [],
   "source": []
  }
 ],
 "metadata": {
  "kernelspec": {
   "display_name": "conda-env-diffdrr-py",
   "language": "python",
   "name": "conda-env-diffdrr-py"
  }
 },
 "nbformat": 4,
 "nbformat_minor": 4
}
