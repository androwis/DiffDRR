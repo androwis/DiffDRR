{
 "cells": [
  {
   "cell_type": "markdown",
   "metadata": {},
   "source": [
    "# Siddon's Method\n",
    "\n",
    "> Mapping from ray to pixel intensity"
   ]
  },
  {
   "cell_type": "code",
   "execution_count": null,
   "metadata": {},
   "outputs": [],
   "source": [
    "#| default_exp siddon"
   ]
  },
  {
   "cell_type": "code",
   "execution_count": null,
   "metadata": {},
   "outputs": [],
   "source": [
    "#| hide\n",
    "from nbdev.showdoc import *"
   ]
  },
  {
   "cell_type": "code",
   "execution_count": null,
   "metadata": {},
   "outputs": [],
   "source": [
    "#| export\n",
    "import torch"
   ]
  },
  {
   "cell_type": "markdown",
   "metadata": {},
   "source": [
    "## DRR Generation\n",
    "\n",
    "The process of generating a DRR models the geometry of an idealized projectional radiography system.\n",
    "Let $\\mathbf s \\in \\mathbb R^3$ be the X-ray source, and $\\mathbf p \\in \\mathbb R^3$ be a target pixel on the detector plane.\n",
    "Then $R(\\alpha) = \\mathbf s + \\alpha (\\mathbf p - \\mathbf s)$ is a ray that originates from $\\mathbf s$ ($\\alpha=0$), passes through the imaged volume, and hits the detector plane at $\\mathbf p$ ($\\alpha=1$).\n",
    "The total energy attenuation experienced by the X-ray by the time it reaches pixel $\\mathbf p$ is given by the following line integral:\n",
    "\n",
    "\\begin{equation}\n",
    "    E(R) = \\|\\mathbf p - \\mathbf s\\|_2 \\int_0^1 \\mathbf V \\left( \\mathbf s + \\alpha (\\mathbf p - \\mathbf s) \\right) \\mathrm d\\alpha \\,,\n",
    "\\end{equation}\n",
    "\n",
    "where $\\mathbf V : \\mathbb R^3 \\mapsto \\mathbb R$ is the imaged volume.\n",
    "The term $\\|\\mathbf p - \\mathbf s\\|_2$ endows the unit-free $\\mathrm d \\alpha$ with the physical unit of length.\n",
    "For DRR synthesis, $\\mathbf V$ is approximated by a discrete 3D CT volume, and Eq. (1) becomes\n",
    "\n",
    "\\begin{equation}\n",
    "    E(R) = \\|\\mathbf p - \\mathbf s\\|_2 \\sum_{m=1}^{M-1} (\\alpha_{m+1} - \\alpha_m) \\mathbf V \\left[ \\mathbf s + \\frac{\\alpha_{m+1} + \\alpha_m}{2} (\\mathbf p - \\mathbf s) \\right] \\,,\n",
    "\\end{equation}\n",
    "\n",
    "where $\\alpha_m$ parameterizes the locations where ray $R$ intersects one of the orthogonal planes comprising the CT volume, and $M$ is the number of such intersections.\n",
    "Note that this model does not account for patterns of reflection and scattering that are present in real X-ray systems.\n",
    "While these simplifications preclude synthesis of realistic X-rays, the model in Eq. (2) has been widely and successfully used in slice-to-volume registration.\n",
    "Additionally, our approach of vectorizing DRR generation might also be interoperable with more sophisticated image synthesis models, an extension we examine further in the Discussion."
   ]
  },
  {
   "cell_type": "code",
   "execution_count": null,
   "metadata": {},
   "outputs": [],
   "source": [
    "#| export\n",
    "def siddon_raycast(\n",
    "    source: torch.Tensor,\n",
    "    target: torch.Tensor,\n",
    "    volume: torch.Tensor,\n",
    "    spacing: torch.Tensor,\n",
    "    eps: float=1e-8,\n",
    "):\n",
    "    \"\"\"Compute Siddon's method.\"\"\"\n",
    "    dims = torch.tensor(volume.shape) + 1\n",
    "    alphas, maxidx = _get_alphas(source, target, spacing, dims, eps)\n",
    "    alphamid = (alphas[..., 0:-1] + alphas[..., 1:]) / 2\n",
    "    voxels = _get_voxel(alphamid, source, target, volume, spacing, dims, maxidx, eps)\n",
    "\n",
    "    # Step length for alphas out of range will be nan\n",
    "    # These nans cancel out voxels convereted to 0 index\n",
    "    step_length = torch.diff(alphas, dim=-1)\n",
    "    weighted_voxels = voxels * step_length\n",
    "\n",
    "    drr = torch.nansum(weighted_voxels, dim=-1)\n",
    "    raylength = (target - source + eps).norm(dim=-1)\n",
    "    drr *= raylength\n",
    "    return drr"
   ]
  },
  {
   "cell_type": "markdown",
   "metadata": {},
   "source": [
    "Siddon's method provides a parametric method to identify the plane intersections $\\{\\alpha_m\\}_{m=1}^M$.\n",
    "Let $\\Delta X$ be the CT voxel size in the $x$-direction and $b_x$ be the location of the $0$-th plane in this direction.\n",
    "Then the intersection of ray $R$ with the $i$-th plane in the $x$-direction is given by\n",
    "\\begin{equation}\n",
    "    \\label{eqn:x-intersect}\n",
    "    \\alpha_x(i) = \\frac{b_x + i \\Delta X - \\mathbf s_x}{\\mathbf p_x - \\mathbf s_x} ,\n",
    "\\end{equation}\n",
    "with analogous expressions for $\\alpha_y(\\cdot)$ and $\\alpha_z(\\cdot)$.\n",
    "\n",
    "We can use Eq. (3) to compute the values $\\mathbf \\alpha_x$ for all the intersections between $R$ and the planes in the $x$-direction:\n",
    "\\begin{equation*}\n",
    "    \\mathbf\\alpha_x = \\{ \\alpha_x(i_{\\min}), \\dots, \\alpha_x(i_{\\max}) \\} ,\n",
    "\\end{equation*}\n",
    "where $i_{\\min}$ and $i_{\\max}$ denote the first and last intersections of $R$ with the $x$-direction planes.\n",
    "\n",
    "Defining $\\mathbf\\alpha_y$ and $\\mathbf\\alpha_z$ analogously, we construct the array\n",
    "\\begin{equation}\n",
    "    \\label{eqn:alphas}\n",
    "    \\mathbf\\alpha = \\mathrm{sort}(\\mathbf\\alpha_x, \\mathbf\\alpha_y, \\mathbf\\alpha_z) ,\n",
    "\\end{equation}\n",
    "which contains $M$ values of $\\alpha$ parameterizing the intersections between $R$ and the orthogonal $x$-, $y$-, and $z$-directional planes. \n",
    "We substitute values in the sorted set $\\mathbf\\alpha$ into Eq. (2) to evaluate $E(R)$, which corresponds to the intensity of pixel $\\mathbf p$ in the synthesized DRR."
   ]
  },
  {
   "cell_type": "code",
   "execution_count": null,
   "metadata": {},
   "outputs": [],
   "source": [
    "#| export\n",
    "def _get_alphas(source, target, spacing, dims, eps):\n",
    "    # Get the CT sizing and spacing parameters\n",
    "    dx, dy, dz = spacing\n",
    "    nx, ny, nz = dims\n",
    "    maxidx = ((nx - 1) * (ny - 1) * (nz - 1)).int().item() - 1\n",
    "\n",
    "    # Get the alpha at each plane intersection\n",
    "    sx, sy, sz = source[..., 0], source[..., 1], source[..., 2]\n",
    "    alphax = torch.arange(nx).to(source) * dx\n",
    "    alphay = torch.arange(ny).to(source) * dy\n",
    "    alphaz = torch.arange(nz).to(source) * dz\n",
    "    alphax = alphax.expand(len(source), 1, -1) - sx.unsqueeze(-1)\n",
    "    alphay = alphay.expand(len(source), 1, -1) - sy.unsqueeze(-1)\n",
    "    alphaz = alphaz.expand(len(source), 1, -1) - sz.unsqueeze(-1)\n",
    "\n",
    "    sdd = target - source + eps\n",
    "    alphax = alphax / sdd[..., 0].unsqueeze(-1)\n",
    "    alphay = alphay / sdd[..., 1].unsqueeze(-1)\n",
    "    alphaz = alphaz / sdd[..., 2].unsqueeze(-1)\n",
    "    alphas = torch.cat([alphax, alphay, alphaz], dim=-1)\n",
    "\n",
    "    # # Get the alphas within the range [alphamin, alphamax]\n",
    "    alphamin, alphamax = _get_alpha_minmax(source, target, spacing, dims, eps)\n",
    "    good_idxs = torch.logical_and(alphas >= alphamin, alphas <= alphamax)\n",
    "    alphas[~good_idxs] = torch.nan\n",
    "\n",
    "    # # Sort the alphas by ray, putting nans at the end of the list\n",
    "    # # Drop indices where alphas for all rays are nan\n",
    "    alphas = torch.sort(alphas, dim=-1).values\n",
    "    alphas = alphas[..., ~alphas.isnan().all(dim=0).all(dim=0)]\n",
    "    return alphas, maxidx\n",
    "\n",
    "\n",
    "def _get_alpha_minmax(source, target, spacing, dims, eps):\n",
    "    sdd = target - source + eps\n",
    "    planes = torch.zeros(3).to(source)\n",
    "    alpha0 = (planes * spacing - source) / sdd\n",
    "    planes = (dims - 1).to(source)\n",
    "    alpha1 = (planes * spacing - source) / sdd\n",
    "    alphas = torch.stack([alpha0, alpha1]).to(source)\n",
    "\n",
    "    alphamin = alphas.min(dim=0).values.max(dim=-1).values.unsqueeze(-1)\n",
    "    alphamax = alphas.max(dim=0).values.min(dim=-1).values.unsqueeze(-1)\n",
    "    return alphamin, alphamax\n",
    "\n",
    "\n",
    "def _get_voxel(alpha, source, target, volume, spacing, dims, maxidx, eps):\n",
    "    idxs = _get_index(alpha, source, target, spacing, dims, maxidx, eps)\n",
    "    return torch.take(volume, idxs)\n",
    "\n",
    "\n",
    "def _get_index(alpha, source, target, spacing, dims, maxidx, eps):\n",
    "    sdd = target - source + eps\n",
    "    idxs = source.unsqueeze(1) + alpha.unsqueeze(-1) * sdd.unsqueeze(2)\n",
    "    idxs = idxs / spacing\n",
    "    idxs = idxs.trunc()\n",
    "    # Conversion to long makes nan->-inf, so temporarily replace them with 0\n",
    "    # This is cancelled out later by multiplication by nan step_length\n",
    "    idxs = (\n",
    "        idxs[..., 0] * (dims[1] - 1) * (dims[2] - 1)\n",
    "        + idxs[..., 1] * (dims[2] - 1)\n",
    "        + idxs[..., 2]\n",
    "    ).long() + 1\n",
    "    idxs[idxs < 0] = 0\n",
    "    idxs[idxs > maxidx] = maxidx\n",
    "    return idxs"
   ]
  },
  {
   "cell_type": "code",
   "execution_count": null,
   "metadata": {},
   "outputs": [],
   "source": [
    "#| hide\n",
    "import nbdev; nbdev.nbdev_export()"
   ]
  },
  {
   "cell_type": "code",
   "execution_count": null,
   "metadata": {},
   "outputs": [],
   "source": []
  }
 ],
 "metadata": {
  "kernelspec": {
   "display_name": "conda-env-diffdrr-py",
   "language": "python",
   "name": "conda-env-diffdrr-py"
  }
 },
 "nbformat": 4,
 "nbformat_minor": 4
}
