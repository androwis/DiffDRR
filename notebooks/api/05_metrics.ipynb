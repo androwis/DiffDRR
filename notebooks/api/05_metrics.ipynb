{
 "cells": [
  {
   "cell_type": "raw",
   "metadata": {},
   "source": [
    "---\n",
    "description: Loss functions for registration and reconstruction tasks\n",
    "output-file: metrics.html\n",
    "title: metrics\n",
    "\n",
    "---\n",
    "\n"
   ]
  },
  {
   "cell_type": "code",
   "execution_count": null,
   "id": "1ecbb10f",
   "metadata": {},
   "outputs": [],
   "source": [
    "#| default_exp metrics"
   ]
  },
  {
   "cell_type": "code",
   "execution_count": null,
   "id": "999d531e",
   "metadata": {},
   "outputs": [],
   "source": [
    "#| hide\n",
    "from nbdev.showdoc import *"
   ]
  },
  {
   "cell_type": "code",
   "execution_count": null,
   "id": "86ff7dae",
   "metadata": {},
   "outputs": [],
   "source": [
    "#| export\n",
    "from __future__ import annotations\n",
    "\n",
    "import torch\n",
    "import torch.nn as nn\n",
    "\n",
    "\n",
    "class XCorr2(nn.Module):\n",
    "    \"\"\"\n",
    "    Compute the normalized cross-correlation between two images with the same shape.\n",
    "    \"\"\"\n",
    "\n",
    "    def __init__(self, zero_mean_normalized=False):\n",
    "        super(XCorr2, self).__init__()\n",
    "        self.InstanceNorm = nn.InstanceNorm2d(1)\n",
    "        self.zero_mean_normalized = zero_mean_normalized\n",
    "\n",
    "    def forward(self, x1, x2):\n",
    "        assert x1.shape == x2.shape\n",
    "        _, c, h, w = x1.shape\n",
    "        assert c == 1, \"Output DRRs should be grayscale.\"\n",
    "        if self.zero_mean_normalized:\n",
    "            x1 = self.InstanceNorm(x1)\n",
    "            x2 = self.InstanceNorm(x2)\n",
    "        score = torch.einsum(\"b...,b...->b\", x1, x2)\n",
    "        score /= h * w * c\n",
    "        return score"
   ]
  },
  {
   "cell_type": "code",
   "execution_count": null,
   "id": "471ae1c2",
   "metadata": {},
   "outputs": [],
   "source": [
    "#| hide\n",
    "import nbdev; nbdev.nbdev_export()"
   ]
  },
  {
   "cell_type": "code",
   "execution_count": null,
   "id": "f043c1d4",
   "metadata": {},
   "outputs": [],
   "source": []
  }
 ],
 "metadata": {
  "kernelspec": {
   "display_name": "python3",
   "language": "python",
   "name": "python3"
  }
 },
 "nbformat": 4,
 "nbformat_minor": 5
}
