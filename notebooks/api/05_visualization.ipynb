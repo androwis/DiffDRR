{
 "cells": [
  {
   "cell_type": "markdown",
   "id": "f6427ea7",
   "metadata": {},
   "source": [
    "# visualization\n",
    "\n",
    "> Utility functions to visualize and animate DRRs"
   ]
  },
  {
   "cell_type": "code",
   "execution_count": 1,
   "id": "18064199",
   "metadata": {
    "tags": []
   },
   "outputs": [],
   "source": [
    "#| default_exp visualization"
   ]
  },
  {
   "cell_type": "code",
   "execution_count": 2,
   "id": "61eedf83",
   "metadata": {
    "tags": []
   },
   "outputs": [],
   "source": [
    "#| hide\n",
    "from nbdev.showdoc import *"
   ]
  },
  {
   "cell_type": "code",
   "execution_count": 3,
   "id": "3b34c0d9",
   "metadata": {
    "tags": []
   },
   "outputs": [],
   "source": [
    "#| export\n",
    "import tempfile\n",
    "\n",
    "import imageio.v3 as iio\n",
    "import matplotlib.pyplot as plt\n",
    "import numpy as np\n",
    "from tqdm import tqdm"
   ]
  },
  {
   "cell_type": "code",
   "execution_count": 4,
   "id": "5bbd598c",
   "metadata": {
    "tags": []
   },
   "outputs": [],
   "source": [
    "#| export\n",
    "def plot_drr(drr, title=None, ticks=True, axs=None):\n",
    "    \"\"\"\n",
    "    Plot an DRR output by the projector module.\n",
    "    Inputs\n",
    "    ------\n",
    "    drr : torch.Tensor\n",
    "        DRR image in torch tensor with shape (batch, channel, height, width)\n",
    "    title : str, optional\n",
    "        Title for the plot\n",
    "    ticks : Bool\n",
    "        Toggle ticks and ticklabels.\n",
    "    Returns\n",
    "    -------\n",
    "    fig : matplotlib.figure.Figure\n",
    "        Figure with plotted image\n",
    "    axs : matplotlib.axes._subplots.AxesSubplot\n",
    "        Axis with plotted image\n",
    "    \"\"\"\n",
    "    if axs is None:\n",
    "        fig, axs = plt.subplots(ncols=len(drr), figsize=(10, 5))\n",
    "    if len(drr) == 1:\n",
    "        axs = [axs]\n",
    "    for img, ax in zip(drr, axs):\n",
    "        ax.imshow(img.squeeze().cpu().detach(), cmap=\"gray\")\n",
    "        _, nx, ny = img.shape\n",
    "        ax.xaxis.tick_top()\n",
    "        ax.set(\n",
    "            title=title,\n",
    "            xticks=[0, nx - 1],\n",
    "            xticklabels=[1, nx],\n",
    "            yticks=[0, ny - 1],\n",
    "            yticklabels=[1, ny],\n",
    "        )\n",
    "        if ticks is False:\n",
    "            ax.set_xticks([])\n",
    "            ax.set_yticks([])\n",
    "    return axs"
   ]
  },
  {
   "cell_type": "code",
   "execution_count": 5,
   "id": "15b1931b",
   "metadata": {
    "tags": []
   },
   "outputs": [],
   "source": [
    "#| export\n",
    "def animate(out, df, sdr, drr, ground_truth=None, verbose=True, **kwargs):\n",
    "    \"\"\"Animate the optimization of a DRR.\"\"\"\n",
    "    # Make the axes\n",
    "    if ground_truth is None:\n",
    "\n",
    "        def make_fig():\n",
    "            fig, ax_opt = plt.subplots(\n",
    "                figsize=(3, 3),\n",
    "                constrained_layout=True,\n",
    "            )\n",
    "            return fig, ax_opt\n",
    "\n",
    "    else:\n",
    "\n",
    "        def make_fig(ground_truth):\n",
    "            fig, (ax_fix, ax_opt) = plt.subplots(\n",
    "                ncols=2,\n",
    "                figsize=(6, 3),\n",
    "                constrained_layout=True,\n",
    "            )\n",
    "            plot_drr(ground_truth, axs=ax_fix)\n",
    "            ax_fix.set(xlabel=\"Fixed DRR\")\n",
    "            return fig, ax_opt\n",
    "\n",
    "    # Compute DRRs, plot, and save to temporary folder\n",
    "    if verbose:\n",
    "        itr = tqdm(df.iterrows(), desc=\"Precomputing DRRs\", total=len(df))\n",
    "    else:\n",
    "        itr = df.iterrows()\n",
    "\n",
    "    with tempfile.TemporaryDirectory() as tmpdir:\n",
    "        idxs = []\n",
    "        for idx, row in itr:\n",
    "            fig, ax_opt = make_fig() if ground_truth is None else make_fig(ground_truth)\n",
    "            params = row[[\"theta\", \"phi\", \"gamma\", \"bx\", \"by\", \"bz\"]].values\n",
    "            itr = drr(sdr, *params)\n",
    "            _ = plot_drr(itr, axs=ax_opt)\n",
    "            ax_opt.set(xlabel=\"Moving DRR\")\n",
    "            fig.savefig(f\"{tmpdir}/{idx}.png\")\n",
    "            plt.close(fig)\n",
    "            idxs.append(idx)\n",
    "        frames = np.stack(\n",
    "            [iio.imread(f\"{tmpdir}/{idx}.png\") for idx in idxs],\n",
    "            axis=0,\n",
    "        )\n",
    "\n",
    "    # Make the animation\n",
    "    return iio.imwrite(out, frames, **kwargs)"
   ]
  },
  {
   "cell_type": "code",
   "execution_count": null,
   "id": "e392aed5",
   "metadata": {
    "tags": []
   },
   "outputs": [],
   "source": [
    "#| hide\n",
    "import nbdev; nbdev.nbdev_export()"
   ]
  },
  {
   "cell_type": "code",
   "execution_count": null,
   "id": "72c374a5",
   "metadata": {},
   "outputs": [],
   "source": []
  }
 ],
 "metadata": {
  "kernelspec": {
   "display_name": "Python [conda env:diffdrr]",
   "language": "python",
   "name": "conda-env-diffdrr-py"
  },
  "language_info": {
   "codemirror_mode": {
    "name": "ipython",
    "version": 3
   },
   "file_extension": ".py",
   "mimetype": "text/x-python",
   "name": "python",
   "nbconvert_exporter": "python",
   "pygments_lexer": "ipython3",
   "version": "3.11.0"
  }
 },
 "nbformat": 4,
 "nbformat_minor": 5
}
