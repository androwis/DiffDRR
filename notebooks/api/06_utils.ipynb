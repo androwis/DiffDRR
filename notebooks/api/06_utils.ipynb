{
 "cells": [
  {
   "cell_type": "markdown",
   "id": "53524bc9",
   "metadata": {},
   "source": [
    "# utils\n",
    "\n",
    "> Utility functions"
   ]
  },
  {
   "cell_type": "code",
   "execution_count": null,
   "id": "ea144574",
   "metadata": {},
   "outputs": [],
   "source": [
    "#| default_exp utils"
   ]
  },
  {
   "cell_type": "code",
   "execution_count": null,
   "id": "c2c12d11",
   "metadata": {},
   "outputs": [],
   "source": [
    "#| hide\n",
    "from nbdev.showdoc import *"
   ]
  },
  {
   "cell_type": "code",
   "execution_count": null,
   "id": "744d92a2-d587-4136-a146-e78241ca0235",
   "metadata": {},
   "outputs": [],
   "source": [
    "#| export\n",
    "import torch\n",
    "\n",
    "from diffdrr.detector import Detector"
   ]
  },
  {
   "cell_type": "code",
   "execution_count": null,
   "id": "5a142423",
   "metadata": {},
   "outputs": [],
   "source": [
    "#| export\n",
    "def reshape_subsampled_drr(\n",
    "    img: torch.Tensor, \n",
    "    detector: Detector, \n",
    "    batch_size: int,\n",
    "):\n",
    "    n_points = detector.height * detector.width\n",
    "    drr = torch.zeros(batch_size, n_points).to(img)\n",
    "    drr[:, detector.subsamples[-1]] = img\n",
    "    drr = drr.view(batch_size, 1, detector.height, detector.width)\n",
    "    return drr"
   ]
  },
  {
   "cell_type": "code",
   "execution_count": null,
   "id": "3fe3b2dd",
   "metadata": {},
   "outputs": [],
   "source": [
    "#| hide\n",
    "import nbdev; nbdev.nbdev_export()"
   ]
  },
  {
   "cell_type": "code",
   "execution_count": null,
   "id": "bc56ada1",
   "metadata": {},
   "outputs": [],
   "source": []
  }
 ],
 "metadata": {
  "kernelspec": {
   "display_name": "conda-env-diffdrr-py",
   "language": "python",
   "name": "conda-env-diffdrr-py"
  }
 },
 "nbformat": 4,
 "nbformat_minor": 5
}
