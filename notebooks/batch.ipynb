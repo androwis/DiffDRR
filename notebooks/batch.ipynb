{
 "cells": [
  {
   "cell_type": "code",
   "execution_count": 1,
   "id": "f552542d-9b78-4693-a1e2-0712eb0f7355",
   "metadata": {},
   "outputs": [],
   "source": [
    "import torch\n",
    "\n",
    "from diffdrr import get_device, load_example_ct, delete_tensor\n",
    "from diffdrr.utils.camera import Detector\n",
    "from diffdrr.projectors.siddon import Siddon\n",
    "device = get_device(\"cuda\")"
   ]
  },
  {
   "cell_type": "code",
   "execution_count": 2,
   "id": "73dfa016-80ed-42a0-b07b-2020a6d89c37",
   "metadata": {},
   "outputs": [],
   "source": [
    "height = width = 50\n",
    "delx = dely = 5e-2\n",
    "sdr = 200"
   ]
  },
  {
   "cell_type": "code",
   "execution_count": 3,
   "id": "da4a6aeb-66dc-4d54-a10f-0a72697cb64a",
   "metadata": {},
   "outputs": [
    {
     "data": {
      "text/plain": [
       "torch.Size([2, 3])"
      ]
     },
     "execution_count": 3,
     "metadata": {},
     "output_type": "execute_result"
    }
   ],
   "source": [
    "batch_size = 2\n",
    "\n",
    "translations = torch.randn(batch_size, 3, device=device)\n",
    "rotations = torch.randn(batch_size, 3, device=device)\n",
    "rotations = torch.remainder(rotations, 2*torch.pi)\n",
    "rotations.shape"
   ]
  },
  {
   "cell_type": "code",
   "execution_count": 4,
   "id": "5f9c8626-61e2-4cb0-a636-2d781017fccd",
   "metadata": {},
   "outputs": [
    {
     "data": {
      "text/plain": [
       "(torch.Size([2, 1, 1, 3]), torch.Size([2, 50, 50, 3]))"
      ]
     },
     "execution_count": 4,
     "metadata": {},
     "output_type": "execute_result"
    }
   ],
   "source": [
    "detector = Detector(height, width, delx, dely, \"cuda\")\n",
    "source, target = detector.make_xrays(sdr, rotations, translations)\n",
    "source.shape, target.shape"
   ]
  },
  {
   "cell_type": "code",
   "execution_count": 5,
   "id": "13b23beb-d5c7-45f2-b0fb-8be90472cf4b",
   "metadata": {},
   "outputs": [],
   "source": [
    "volume, spacing = load_example_ct()\n",
    "siddon = Siddon(volume, spacing, device)\n",
    "\n",
    "spacing = torch.tensor(spacing, device=device)\n",
    "dims = torch.tensor(volume.shape, device=device) + 1\n",
    "# siddon.raytrace(source, rays)"
   ]
  },
  {
   "cell_type": "code",
   "execution_count": 6,
   "id": "0baca337-d5cb-4da0-83b4-11972ca44b40",
   "metadata": {},
   "outputs": [
    {
     "data": {
      "text/plain": [
       "(torch.Size([2, 1, 50, 50]), torch.Size([2, 1, 50, 50]))"
      ]
     },
     "execution_count": 6,
     "metadata": {},
     "output_type": "execute_result"
    }
   ],
   "source": [
    "sdd = target - source\n",
    "planes = torch.zeros(3, device=device)\n",
    "alpha0 = (planes * spacing - source) / sdd\n",
    "planes = dims - 1\n",
    "alpha1 = (planes * spacing - source) / sdd\n",
    "alphas = torch.stack([alpha0, alpha1])\n",
    "alphamin = alphas.min(dim=0).values.max(dim=-1).values.unsqueeze(1)\n",
    "alphamax = alphas.max(dim=0).values.min(dim=-1).values.unsqueeze(1)\n",
    "\n",
    "alphamin.shape, alphamax.shape"
   ]
  },
  {
   "cell_type": "code",
   "execution_count": 10,
   "id": "d8d45186-474c-4fb7-914f-5d6d388a3731",
   "metadata": {},
   "outputs": [
    {
     "data": {
      "text/plain": [
       "torch.Size([2, 1160, 50, 50])"
      ]
     },
     "execution_count": 10,
     "metadata": {},
     "output_type": "execute_result"
    }
   ],
   "source": [
    "# Get the CT sizing and spacing parameters\n",
    "dx, dy, dz = spacing\n",
    "nx, ny, nz = dims\n",
    "# self.maxidx = ((nx - 1) * (ny - 1) * (nz - 1)).int().item() - 1\n",
    "\n",
    "# Get the alpha at each plane intersection\n",
    "sx, sy, sz = source[:, 0, 0, 0], source[:, 0, 0, 1], source[:, 0, 0, 2]\n",
    "alphax = torch.arange(nx, dtype=torch.float32, device=device).unsqueeze(1)\n",
    "alphay = torch.arange(ny, dtype=torch.float32, device=device).unsqueeze(1)\n",
    "alphaz = torch.arange(nz, dtype=torch.float32, device=device).unsqueeze(1)\n",
    "alphax = (alphax * dx - sx).unsqueeze(-1).unsqueeze(-1).permute(1, 0, 2, 3)\n",
    "alphay = (alphay * dy - sy).unsqueeze(-1).unsqueeze(-1).permute(1, 0, 2, 3)\n",
    "alphaz = (alphaz * dz - sz).unsqueeze(-1).unsqueeze(-1).permute(1, 0, 2, 3)\n",
    "\n",
    "sdd = (target - source).unsqueeze(1)  # source-to-detector distance\n",
    "alphax = alphax / sdd[:, :, :, :, 0]\n",
    "alphay = alphay / sdd[:, :, :, :, 1]\n",
    "alphaz = alphaz / sdd[:, :, :, :, 2]\n",
    "alphas = torch.cat([alphax, alphay, alphaz], dim=1)\n",
    "alphas.shape"
   ]
  },
  {
   "cell_type": "code",
   "execution_count": 8,
   "id": "40d36bdd-edda-4337-8c07-af697c35c52a",
   "metadata": {},
   "outputs": [
    {
     "data": {
      "text/plain": [
       "torch.Size([2, 1160, 50, 50])"
      ]
     },
     "execution_count": 8,
     "metadata": {},
     "output_type": "execute_result"
    }
   ],
   "source": [
    "good_idxs = torch.logical_and(alphas >= alphamin, alphas <= alphamax)\n",
    "alphas[~good_idxs] = torch.nan\n",
    "alphas = torch.sort(alphas, dim=1).values\n",
    "# alphas = alphas[~alphas.isnan().all(dim=-1).all(dim=-1)].unsqueeze(0)\n",
    "alphas.shape"
   ]
  },
  {
   "cell_type": "code",
   "execution_count": null,
   "id": "19ecb82c-ec25-4f8d-9c61-01927f067645",
   "metadata": {},
   "outputs": [],
   "source": []
  }
 ],
 "metadata": {
  "kernelspec": {
   "display_name": "Python [conda env:DiffDRR]",
   "language": "python",
   "name": "conda-env-DiffDRR-py"
  },
  "language_info": {
   "codemirror_mode": {
    "name": "ipython",
    "version": 3
   },
   "file_extension": ".py",
   "mimetype": "text/x-python",
   "name": "python",
   "nbconvert_exporter": "python",
   "pygments_lexer": "ipython3",
   "version": "3.7.13"
  }
 },
 "nbformat": 4,
 "nbformat_minor": 5
}
