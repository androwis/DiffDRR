{
 "cells": [
  {
   "cell_type": "code",
   "execution_count": 1,
   "id": "1a42dfa5",
   "metadata": {},
   "outputs": [],
   "source": [
    "import matplotlib.pyplot as plt\n",
    "import torch\n",
    "\n",
    "from src import read_dicom, Detector, Siddon\n",
    "\n",
    "device = torch.device(\"cuda\" if torch.cuda.is_available() else \"cpu\")"
   ]
  },
  {
   "cell_type": "code",
   "execution_count": 2,
   "id": "b74e3f00-2551-4324-9a0b-1b9340b42abe",
   "metadata": {},
   "outputs": [
    {
     "data": {
      "text/plain": [
       "tensor([180.0000, 180.0000, 166.2500], dtype=torch.float64)"
      ]
     },
     "execution_count": 2,
     "metadata": {},
     "output_type": "execute_result"
    }
   ],
   "source": [
    "# Read in the volume\n",
    "volume, spacing = read_dicom(\"../data/cxr/\")\n",
    "volume[volume < 0] = 0\n",
    "isocenter = [0., 0., 0.]\n",
    "siddon = Siddon(spacing, isocenter, volume, device)\n",
    "\n",
    "# Send rays through the center of the volume\n",
    "torch.tensor(volume.shape) * torch.tensor(spacing) / 2"
   ]
  },
  {
   "cell_type": "code",
   "execution_count": 3,
   "id": "1a141783-6cf5-46e9-b268-2ce2051980d9",
   "metadata": {},
   "outputs": [],
   "source": [
    "# Make the detector plane\n",
    "detector = Detector(\n",
    "    sdr    =  300.,\n",
    "    theta  =  torch.pi,\n",
    "    phi    =  0,\n",
    "    gamma  =  torch.pi / 2,\n",
    "    bx     =  180.,\n",
    "    by     =  180.,\n",
    "    bz     =  166.25,\n",
    "    device =  device,\n",
    ")\n",
    "\n",
    "angles = detector.angles\n",
    "source, center, rays = detector.make_xrays(600, 600, 1.5, 1.5)"
   ]
  },
  {
   "cell_type": "code",
   "execution_count": null,
   "id": "654dbe62",
   "metadata": {},
   "outputs": [],
   "source": [
    "# Make the DRR\n",
    "drr = siddon.raytrace(source, rays)\n",
    "\n",
    "fig, ax = plt.subplots(dpi=300)\n",
    "ax.imshow(drr.detach().cpu(), cmap=\"gray\")\n",
    "ax.axis(\"off\")\n",
    "plt.savefig(\"../figures/example_DRR.pdf\")\n",
    "plt.show()"
   ]
  },
  {
   "cell_type": "code",
   "execution_count": null,
   "id": "a46b8d14-6079-4842-b6dd-bb2e23863523",
   "metadata": {},
   "outputs": [],
   "source": []
  }
 ],
 "metadata": {
  "@webio": {
   "lastCommId": null,
   "lastKernelId": null
  },
  "kernelspec": {
   "display_name": "Python [conda env:DiffDRR]",
   "language": "python",
   "name": "conda-env-DiffDRR-py"
  },
  "language_info": {
   "codemirror_mode": {
    "name": "ipython",
    "version": 3
   },
   "file_extension": ".py",
   "mimetype": "text/x-python",
   "name": "python",
   "nbconvert_exporter": "python",
   "pygments_lexer": "ipython3",
   "version": "3.8.13"
  }
 },
 "nbformat": 4,
 "nbformat_minor": 5
}
