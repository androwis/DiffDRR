{
 "cells": [
  {
   "cell_type": "code",
   "execution_count": 1,
   "id": "4b78d2fd",
   "metadata": {},
   "outputs": [],
   "source": [
    "import torch\n",
    "\n",
    "from src import read_dicom\n",
    "\n",
    "device = torch.device(\"cuda:0\" if torch.cuda.is_available() else \"cpu\")"
   ]
  },
  {
   "cell_type": "code",
   "execution_count": 2,
   "id": "0e36feef",
   "metadata": {},
   "outputs": [],
   "source": [
    "class Siddon:\n",
    "    def __init__(self, spacing, isocenter, volume, device=device):\n",
    "        self.spacing = torch.tensor(spacing, device=device)\n",
    "        self.isocenter = torch.tensor(isocenter, device=device)\n",
    "        self.dims = torch.tensor(volume.shape, device=device) + 1.0\n",
    "        self.volume = torch.tensor(volume, device=device)\n",
    "        self.device = device\n",
    "\n",
    "    def get_alpha(self, planes, source, target):\n",
    "        return (self.isocenter + planes * self.spacing - source) / (target - source)\n",
    "\n",
    "    def get_alpha_minmax(self, source, target):\n",
    "        planes = torch.tensor([[1, 1, 1], self.dims], device=device) - 1\n",
    "        alphas = self.get_alpha(planes, source, target)\n",
    "        minis = torch.min(alphas, dim=0).values\n",
    "        maxis = torch.max(alphas, dim=0).values\n",
    "        alphamin = torch.max(minis)\n",
    "        alphamax = torch.min(maxis)\n",
    "        return alphamin, alphamax, minis, maxis\n",
    "\n",
    "    def get_coords(self, alpha, source, target):\n",
    "        pxyz = source + alpha * (target - source)\n",
    "        return (pxyz - self.isocenter) / self.spacing\n",
    "\n",
    "    def initialize(self, source, target):\n",
    "        alphamin, alphamax, minis, maxis = self.get_alpha_minmax(source, target)\n",
    "        idxmin = self.get_coords(alphamin, source, target)\n",
    "        idxmax = self.get_coords(alphamax, source, target)\n",
    "\n",
    "        # source < target\n",
    "        # get minidx\n",
    "        a = (alphamin == minis) * torch.ones(3)\n",
    "        b = (alphamin != minis) * (idxmin + 1).trunc()\n",
    "        # get maxidx\n",
    "        c = (alphamax == maxis) * (self.dims - 1)\n",
    "        d = (alphamax != maxis) * idxmax.trunc()\n",
    "        # source > target\n",
    "        # get minidx\n",
    "        e = (alphamax == maxis) * torch.ones(3)\n",
    "        f = (alphamax != maxis) * (idxmax + 1).trunc()\n",
    "        # get maxidx\n",
    "        g = (alphamin == minis) * (self.dims - 2)\n",
    "        h = (alphamin != minis) * idxmin.trunc()\n",
    "\n",
    "        minidx = (source < target) * (a + b) + (source >= target) * (e + f)\n",
    "        maxidx = (source < target) * (c + d) + (source >= target) * (g + h)\n",
    "\n",
    "        return alphamin, alphamax, minidx, maxidx\n",
    "\n",
    "    def get_voxel_idx(self, alpha, source, target):\n",
    "        idxs = self.get_coords(alpha, source, target).trunc().int()\n",
    "        return list(idxs)\n",
    "\n",
    "    def raytrace(self, source, target):\n",
    "\n",
    "        # Get the update conditions\n",
    "        ones = torch.ones(3, dtype=int)\n",
    "        update_idxs = (source < target) * ones - (source >= target) * ones\n",
    "        update_alpha = self.spacing / torch.abs(target - source)\n",
    "\n",
    "        # Initialize the loop\n",
    "        alphamin, alphamax, minidx, maxidx = self.initialize(source, target)\n",
    "        alphacurr = alphamin\n",
    "\n",
    "        # Get the potential next steps in the xyz planes\n",
    "        steps = self.get_alpha(minidx, source, target)\n",
    "        idx = steps.argmin()  # Find the smallest step\n",
    "        alphanext = steps[idx]  # I.e., the next plane\n",
    "\n",
    "        alphamid = (alphacurr + alphanext) / 2\n",
    "        voxel = self.get_voxel_idx(alphamid, source, target)\n",
    "\n",
    "        step_length = alphanext - alphacurr\n",
    "        d12 = step_length * self.volume[voxel]\n",
    "        alphacurr = alphanext.clone()\n",
    "\n",
    "        # Loop over all voxels that the ray passes through\n",
    "        while alphacurr < alphamax and not torch.isclose(alphacurr, alphamax):\n",
    "            voxel[idx] += update_idxs[idx]\n",
    "            steps[idx] += update_alpha[idx]\n",
    "            idx = steps.argmin()\n",
    "            alphanext = steps[idx]\n",
    "            step_length = alphanext - alphacurr\n",
    "            d12 += step_length * self.volume[voxel]\n",
    "            alphacurr = alphanext.clone()\n",
    "\n",
    "        return d12"
   ]
  },
  {
   "cell_type": "code",
   "execution_count": 57,
   "id": "aafd2c80",
   "metadata": {},
   "outputs": [],
   "source": [
    "class Detector:\n",
    "    def __init__(self, source, center, height, width, delx, dely, device):\n",
    "        self.source = torch.tensor(source, device=device, requires_grad=True)\n",
    "        self.center = torch.tensor(center, device=device, requires_grad=True)\n",
    "        self.height = height\n",
    "        self.width = width\n",
    "        self.delx = delx\n",
    "        self.dely = dely\n",
    "        self.device = device\n",
    "\n",
    "    def make_xrays(self):\n",
    "\n",
    "        # Get the detector plane normal vector\n",
    "        normal = self.source - self.center\n",
    "        normal = normal / torch.norm(normal)\n",
    "        u, v, w = _get_basis(normal)\n",
    "        assert torch.allclose(w, normal)\n",
    "\n",
    "        # Construt the detector plane\n",
    "        t = (torch.arange(-self.height // 2, self.height // 2, device=self.device) + 1) * self.delx\n",
    "        s = (torch.arange(-self.width // 2, self.width // 2, device=self.device) + 1) * self.dely\n",
    "        coefs = torch.cartesian_prod(t, s).reshape(self.height, self.width, 2)\n",
    "        targets = coefs @ torch.stack([u, v])\n",
    "        targets += self.center\n",
    "        return targets\n",
    "\n",
    "\n",
    "def _get_basis(w):\n",
    "    t = _get_noncollinear_vector(w)\n",
    "    t = t / torch.norm(t)\n",
    "    u = torch.cross(t, w)\n",
    "    v = torch.cross(u, w)\n",
    "    return u, v, w\n",
    "\n",
    "\n",
    "def _get_noncollinear_vector(w):\n",
    "    t = w.clone()\n",
    "    i = torch.argmin(torch.abs(w))\n",
    "    t[i] = 1\n",
    "    return t"
   ]
  },
  {
   "cell_type": "code",
   "execution_count": 58,
   "id": "b1f83f44",
   "metadata": {},
   "outputs": [],
   "source": [
    "volume, spacing = read_dicom(\"../data/cxr/\")\n",
    "isocenter=[0.0, 0.0, 0.0]\n",
    "\n",
    "siddon = Siddon(spacing, isocenter, volume)"
   ]
  },
  {
   "cell_type": "code",
   "execution_count": 59,
   "id": "aa9e1cc5",
   "metadata": {},
   "outputs": [
    {
     "name": "stdout",
     "output_type": "stream",
     "text": [
      "tensor([ 6.7942e-01, -7.2354e-01, -8.5771e-09], device='cuda:0',\n",
      "       grad_fn=<CrossBackward>) tensor([ 0.3939,  0.3699, -0.8326], device='cuda:0', grad_fn=<CrossBackward>) tensor([-0.6115, -0.5742, -0.5444], device='cuda:0', grad_fn=<DivBackward0>)\n"
     ]
    }
   ],
   "source": [
    "source = [-10., -10., -15.]\n",
    "center = [400., 375., 350.]\n",
    "\n",
    "detector = Detector(\n",
    "    source=source,\n",
    "    center=center,\n",
    "    height=25,\n",
    "    width=25,\n",
    "    delx=1.,\n",
    "    dely=1.,\n",
    "    device=device\n",
    ")\n",
    "\n",
    "rays = detector.make_xrays()"
   ]
  },
  {
   "cell_type": "code",
   "execution_count": 61,
   "id": "28402bb2",
   "metadata": {},
   "outputs": [
    {
     "data": {
      "text/plain": [
       "torch.Size([3, 25, 25])"
      ]
     },
     "execution_count": 61,
     "metadata": {},
     "output_type": "execute_result"
    }
   ],
   "source": [
    "rays.shape"
   ]
  },
  {
   "cell_type": "code",
   "execution_count": 53,
   "id": "22610f9d",
   "metadata": {},
   "outputs": [],
   "source": [
    "t = torch.arange(-detector.height // 2, detector.height // 2, device=detector.device)\n",
    "t = (t + 1) * detector.delx\n",
    "\n",
    "s = torch.arange(-detector.width // 2, detector.width // 2, device=detector.device)\n",
    "s = (s + 1) * detector.dely\n",
    "\n",
    "coef = torch.cartesian_prod(t, s).reshape(detector.height, detector.width, 2)"
   ]
  },
  {
   "cell_type": "code",
   "execution_count": 51,
   "id": "e449b97f",
   "metadata": {},
   "outputs": [],
   "source": [
    "a = "
   ]
  },
  {
   "cell_type": "code",
   "execution_count": null,
   "id": "1740a4f8",
   "metadata": {},
   "outputs": [],
   "source": []
  }
 ],
 "metadata": {
  "kernelspec": {
   "display_name": "Python [conda env:DiffDRR]",
   "language": "python",
   "name": "conda-env-DiffDRR-py"
  },
  "language_info": {
   "codemirror_mode": {
    "name": "ipython",
    "version": 3
   },
   "file_extension": ".py",
   "mimetype": "text/x-python",
   "name": "python",
   "nbconvert_exporter": "python",
   "pygments_lexer": "ipython3",
   "version": "3.7.13"
  }
 },
 "nbformat": 4,
 "nbformat_minor": 5
}
