{
 "cells": [
  {
   "cell_type": "code",
   "execution_count": 1,
   "id": "1ef10772",
   "metadata": {},
   "outputs": [],
   "source": [
    "import torch\n",
    "\n",
    "from src import read_dicom, Detector, Siddon"
   ]
  },
  {
   "cell_type": "code",
   "execution_count": 2,
   "id": "b22a60b5",
   "metadata": {},
   "outputs": [
    {
     "name": "stdout",
     "output_type": "stream",
     "text": [
      "1.12.0\n"
     ]
    }
   ],
   "source": [
    "print(torch.__version__)\n",
    "device = torch.device(\"cuda:0\" if torch.cuda.is_available() else \"cpu\")"
   ]
  },
  {
   "cell_type": "code",
   "execution_count": 3,
   "id": "b7c2a9c7",
   "metadata": {},
   "outputs": [
    {
     "name": "stdout",
     "output_type": "stream",
     "text": [
      "749 ms ± 3.67 ms per loop (mean ± std. dev. of 7 runs, 1 loop each)\n"
     ]
    }
   ],
   "source": [
    "volume, spacing = read_dicom(\"../data/cxr/\")\n",
    "isocenter = [0.0, 0.0, 0.0]\n",
    "\n",
    "source = [-10., -10., -15.]\n",
    "center = [400., 375., 350.]\n",
    "\n",
    "detector = Detector(\n",
    "    source=source,\n",
    "    center=center,\n",
    "    height=101,\n",
    "    width=101,\n",
    "    delx=0.1,\n",
    "    dely=0.1,\n",
    "    device=device\n",
    ")\n",
    "\n",
    "source = detector.source\n",
    "rays = detector.make_xrays()\n",
    "\n",
    "siddon = Siddon(spacing, isocenter, volume, device)\n",
    "%timeit siddon.raytrace(source, rays)"
   ]
  },
  {
   "cell_type": "code",
   "execution_count": null,
   "id": "50580bc7",
   "metadata": {},
   "outputs": [],
   "source": []
  }
 ],
 "metadata": {
  "kernelspec": {
   "display_name": "Python [conda env:DiffDRR]",
   "language": "python",
   "name": "conda-env-DiffDRR-py"
  },
  "language_info": {
   "codemirror_mode": {
    "name": "ipython",
    "version": 3
   },
   "file_extension": ".py",
   "mimetype": "text/x-python",
   "name": "python",
   "nbconvert_exporter": "python",
   "pygments_lexer": "ipython3",
   "version": "3.7.13"
  }
 },
 "nbformat": 4,
 "nbformat_minor": 5
}
