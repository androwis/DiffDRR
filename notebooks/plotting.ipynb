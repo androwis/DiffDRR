{
 "cells": [
  {
   "cell_type": "code",
   "execution_count": 1,
   "id": "3607bd0e-945d-45cd-8fef-abd4e490a23d",
   "metadata": {},
   "outputs": [],
   "source": [
    "import matplotlib.pyplot as plt\n",
    "from mpl_toolkits.mplot3d.art3d import Poly3DCollection\n",
    "import numpy as np\n",
    "import torch\n",
    "\n",
    "from src import get_device, read_dicom, Detector, Siddon"
   ]
  },
  {
   "cell_type": "code",
   "execution_count": 2,
   "id": "94d38009-2fdd-44a2-9fe7-f0282f3a93b9",
   "metadata": {},
   "outputs": [],
   "source": [
    "# Read in the volume\n",
    "volume, spacing = read_dicom(\"../data/cxr\")\n",
    "\n",
    "# Get parameters for the detector\n",
    "bx, by, bz = np.array(volume.shape) * np.array(spacing) / 2\n",
    "detector_kwargs = {\n",
    "    \"sdr\"   : 300.0,\n",
    "    \"theta\" : torch.pi,\n",
    "    \"phi\"   : 0,\n",
    "    \"gamma\" : torch.pi / 3,\n",
    "    \"bx\"    : bx,\n",
    "    \"by\"    : by,\n",
    "    \"bz\"    : bz,\n",
    "}\n",
    "\n",
    "device = get_device(\"cuda\")"
   ]
  },
  {
   "cell_type": "code",
   "execution_count": null,
   "id": "44829f9e-c969-4a16-8498-0fc1ee6f68d4",
   "metadata": {},
   "outputs": [],
   "source": [
    "detector = Detector(device=device, **detector_kwargs)\n",
    "source, rays = detector.make_xrays(200, 200, 1.4e-2, 1.4e-2)\n",
    "\n",
    "# Plot the detector plane\n",
    "v0 = rays[0, 0, :].detach().cpu().numpy()\n",
    "v1 = rays[-1, 0, :].detach().cpu().numpy()\n",
    "v2 = rays[0, -1, :].detach().cpu().numpy()\n",
    "v3 = rays[-1, -1, :].detach().cpu().numpy()\n",
    "\n",
    "pts = np.array([v0, v1, v2, v3])\n",
    "\n",
    "fig = plt.figure()\n",
    "ax = fig.add_subplot(111, projection=\"3d\")\n",
    "ax.scatter3D(pts[:, 0], pts[:, 1], pts[:, 2])\n",
    "verts = [[pts[0], pts[1], pts[3], pts[2]]]\n",
    "ax.add_collection3d(Poly3DCollection(verts, facecolors='cyan', linewidths=1, edgecolors='r', alpha=0.2))\n",
    "\n",
    "# Plot the source\n",
    "source = source.detach().cpu().numpy()\n",
    "ax.scatter3D(source[0], source[1], source[2])\n",
    "\n",
    "# Plot the rays\n",
    "for pt in pts:\n",
    "    ax.plot3D([pt[0], source[0]], [pt[1], source[1]], [pt[2], source[2]], \"k--\", alpha=0.75)\n",
    "\n",
    "plt.show()"
   ]
  },
  {
   "cell_type": "code",
   "execution_count": null,
   "id": "a08ebcd4-ab92-4c24-b295-54d55c953454",
   "metadata": {},
   "outputs": [],
   "source": [
    "volume, _ = read_dicom(\"../data/cxr/\", correct_zero=False)"
   ]
  }
 ],
 "metadata": {
  "kernelspec": {
   "display_name": "Python [conda env:DiffDRR]",
   "language": "python",
   "name": "conda-env-DiffDRR-py"
  },
  "language_info": {
   "codemirror_mode": {
    "name": "ipython",
    "version": 3
   },
   "file_extension": ".py",
   "mimetype": "text/x-python",
   "name": "python",
   "nbconvert_exporter": "python",
   "pygments_lexer": "ipython3",
   "version": "3.7.13"
  }
 },
 "nbformat": 4,
 "nbformat_minor": 5
}
