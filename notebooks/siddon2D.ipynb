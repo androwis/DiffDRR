{
    "cells": [
        {
            "cell_type": "code",
            "execution_count": 1,
            "id": "db86560d",
            "metadata": {},
            "outputs": [],
            "source": [
                "import torch\n",
                "\n",
                "from diffdrr import Detector"
            ]
        },
        {
            "cell_type": "code",
            "execution_count": 2,
            "id": "06f6270b",
            "metadata": {},
            "outputs": [
                {
                    "name": "stdout",
                    "output_type": "stream",
                    "text": [
                        "tensor([[ 0,  1,  2,  3],\n",
                        "        [ 4,  5,  6,  7],\n",
                        "        [ 8,  9, 10, 11],\n",
                        "        [12, 13, 14, 15]])\n"
                    ]
                }
            ],
            "source": [
                "Aorig = torch.arange(16).reshape(4, 4)\n",
                "print(Aorig)\n",
                "\n",
                "A = torch.flip(Aorig, [0])\n",
                "\n",
                "spacing = torch.tensor([1., 1.])\n",
                "isocenter = torch.tensor([0., 0.])\n",
                "dims = torch.tensor(A.shape) + 1\n",
                "\n",
                "nx, ny = dims\n",
                "dx, dy = spacing"
            ]
        },
        {
            "cell_type": "code",
            "execution_count": 3,
            "id": "5a7322e8",
            "metadata": {},
            "outputs": [],
            "source": [
                "source = torch.tensor([-1., 4.5], requires_grad=True)\n",
                "target = torch.tensor([4.5, -0.5], requires_grad=True)\n",
                "\n",
                "sx, sy = source"
            ]
        },
        {
            "cell_type": "code",
            "execution_count": 4,
            "id": "e285bbe0",
            "metadata": {},
            "outputs": [],
            "source": [
                "alphax = torch.arange(nx, dtype=torch.float32) * dx - sx\n",
                "alphay = torch.arange(ny, dtype=torch.float32) * dy - sy\n",
                "\n",
                "sdd = target - source\n",
                "alphax = alphax / sdd[0]\n",
                "alphay = alphay / sdd[1]"
            ]
        },
        {
            "cell_type": "code",
            "execution_count": 5,
            "id": "28cf9fde",
            "metadata": {},
            "outputs": [
                {
                    "data": {
                        "text/plain": [
                            "(tensor([0.1818, 0.3636, 0.5455, 0.7273, 0.9091], grad_fn=<DivBackward0>),\n",
                            " tensor([0.9000, 0.7000, 0.5000, 0.3000, 0.1000], grad_fn=<DivBackward0>))"
                        ]
                    },
                    "execution_count": 5,
                    "metadata": {},
                    "output_type": "execute_result"
                }
            ],
            "source": [
                "alphax, alphay"
            ]
        },
        {
            "cell_type": "code",
            "execution_count": 6,
            "id": "e57ad317",
            "metadata": {},
            "outputs": [
                {
                    "data": {
                        "text/plain": [
                            "(tensor(0.1818, grad_fn=<MaxBackward0>),\n",
                            " tensor(0.9000, grad_fn=<MinBackward0>))"
                        ]
                    },
                    "execution_count": 6,
                    "metadata": {},
                    "output_type": "execute_result"
                }
            ],
            "source": [
                "planes = torch.zeros(2)\n",
                "alpha0 = (isocenter + planes * spacing - source) / sdd\n",
                "planes = dims - 1\n",
                "alpha1 = (isocenter + planes * spacing - source) / sdd\n",
                "alphas = torch.stack([alpha0, alpha1])\n",
                "\n",
                "alphamin = alphas.min(dim=0).values.max(dim=-1).values\n",
                "alphamax = alphas.max(dim=0).values.min(dim=-1).values\n",
                "\n",
                "alphamin, alphamax"
            ]
        },
        {
            "cell_type": "code",
            "execution_count": 7,
            "id": "745250b9",
            "metadata": {},
            "outputs": [
                {
                    "data": {
                        "text/plain": [
                            "tensor([0.1818, 0.3636, 0.5455, 0.7273, 0.9091, 0.9000, 0.7000, 0.5000, 0.3000,\n",
                            "        0.1000], grad_fn=<CatBackward0>)"
                        ]
                    },
                    "execution_count": 7,
                    "metadata": {},
                    "output_type": "execute_result"
                }
            ],
            "source": [
                "alphas = torch.hstack([alphax, alphay])\n",
                "alphas"
            ]
        },
        {
            "cell_type": "code",
            "execution_count": 8,
            "id": "2789dc30",
            "metadata": {},
            "outputs": [
                {
                    "data": {
                        "text/plain": [
                            "tensor([0.1818, 0.3000, 0.3636, 0.5000, 0.5455, 0.7000, 0.7273, 0.9000,    nan,\n",
                            "           nan], grad_fn=<SortBackward0>)"
                        ]
                    },
                    "execution_count": 8,
                    "metadata": {},
                    "output_type": "execute_result"
                }
            ],
            "source": [
                "good_idxs = torch.logical_and(alphas >= alphamin, alphas <= alphamax)\n",
                "alphas[~good_idxs] = torch.nan\n",
                "alphas = alphas.sort(dim=0).values\n",
                "alphas"
            ]
        },
        {
            "cell_type": "code",
            "execution_count": 9,
            "id": "fa59f334",
            "metadata": {},
            "outputs": [
                {
                    "data": {
                        "text/plain": [
                            "tensor([0.2409, 0.3318, 0.4318, 0.5227, 0.6227, 0.7136, 0.8136,    nan,    nan],\n",
                            "       grad_fn=<DivBackward0>)"
                        ]
                    },
                    "execution_count": 9,
                    "metadata": {},
                    "output_type": "execute_result"
                }
            ],
            "source": [
                "alphamids = (alphas[0:-1] + alphas[1:]) / 2\n",
                "alphamids"
            ]
        },
        {
            "cell_type": "code",
            "execution_count": 29,
            "id": "4aa34a0e",
            "metadata": {},
            "outputs": [
                {
                    "data": {
                        "text/plain": [
                            "tensor([[0., 3.],\n",
                            "        [0., 2.],\n",
                            "        [1., 2.],\n",
                            "        [1., 1.],\n",
                            "        [2., 1.],\n",
                            "        [2., 0.],\n",
                            "        [3., 0.],\n",
                            "        [nan, nan],\n",
                            "        [nan, nan]], grad_fn=<TruncBackward0>)"
                        ]
                    },
                    "execution_count": 29,
                    "metadata": {},
                    "output_type": "execute_result"
                }
            ],
            "source": [
                "idxs = (source + alphamids.unsqueeze(-1) * sdd - isocenter) / spacing\n",
                "idxs = idxs.trunc()\n",
                "idxs\n",
                "# idxs = idxs[:, 0] + idxs[:, 1]"
            ]
        },
        {
            "cell_type": "code",
            "execution_count": 30,
            "id": "fc970f9a",
            "metadata": {},
            "outputs": [
                {
                    "data": {
                        "text/plain": [
                            "tensor([12,  8,  9,  5,  6,  2,  3,  0,  0])"
                        ]
                    },
                    "execution_count": 30,
                    "metadata": {},
                    "output_type": "execute_result"
                }
            ],
            "source": [
                "idxs = (idxs[:, 0] + idxs[:, 1] * (ny-1)).long()\n",
                "idxs[idxs < 0] = 0\n",
                "idxs"
            ]
        },
        {
            "cell_type": "code",
            "execution_count": 31,
            "id": "24167671",
            "metadata": {},
            "outputs": [
                {
                    "data": {
                        "text/plain": [
                            "tensor([ 0,  4,  5,  9, 10, 14, 15, 12, 12])"
                        ]
                    },
                    "execution_count": 31,
                    "metadata": {},
                    "output_type": "execute_result"
                }
            ],
            "source": [
                "torch.take(A, idxs)"
            ]
        },
        {
            "cell_type": "code",
            "execution_count": 32,
            "id": "ab1c2359",
            "metadata": {},
            "outputs": [
                {
                    "data": {
                        "text/plain": [
                            "tensor([[ 0,  1,  2,  3],\n",
                            "        [ 4,  5,  6,  7],\n",
                            "        [ 8,  9, 10, 11],\n",
                            "        [12, 13, 14, 15]])"
                        ]
                    },
                    "execution_count": 32,
                    "metadata": {},
                    "output_type": "execute_result"
                }
            ],
            "source": [
                "Aorig"
            ]
        },
        {
            "cell_type": "code",
            "execution_count": 37,
            "id": "ce099ac4",
            "metadata": {},
            "outputs": [
                {
                    "data": {
                        "text/plain": [
                            "tensor(5.8636, grad_fn=<NansumBackward0>)"
                        ]
                    },
                    "execution_count": 37,
                    "metadata": {},
                    "output_type": "execute_result"
                }
            ],
            "source": [
                "step_length = torch.diff(alphas)\n",
                "voxel_value = torch.take(A, idxs)\n",
                "torch.nansum(step_length * voxel_value)"
            ]
        },
        {
            "cell_type": "code",
            "execution_count": null,
            "id": "a9ca3737",
            "metadata": {},
            "outputs": [],
            "source": []
        }
    ],
    "metadata": {
        "@webio": {
            "lastCommId": null,
            "lastKernelId": null
        },
        "kernelspec": {
            "display_name": "Python [conda env:DiffDRR]",
            "language": "python",
            "name": "conda-env-DiffDRR-py"
        },
        "language_info": {
            "codemirror_mode": {
                "name": "ipython",
                "version": 3
            },
            "file_extension": ".py",
            "mimetype": "text/x-python",
            "name": "python",
            "nbconvert_exporter": "python",
            "pygments_lexer": "ipython3",
            "version": "3.7.13"
        }
    },
    "nbformat": 4,
    "nbformat_minor": 5
}