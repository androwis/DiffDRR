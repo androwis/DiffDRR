{
 "cells": [
  {
   "cell_type": "code",
   "execution_count": 1,
   "id": "40b79247",
   "metadata": {},
   "outputs": [],
   "source": [
    "import torch\n",
    "\n",
    "from src import Detector, Siddon"
   ]
  },
  {
   "cell_type": "code",
   "execution_count": 2,
   "id": "e6625165",
   "metadata": {},
   "outputs": [],
   "source": [
    "# Make a test class\n",
    "volume = torch.rand(4, 4, 4).abs()\n",
    "siddon = Siddon(spacing=[1.0, 1.0, 1.0], center=[0.0, 0.0, 0.0], volume=volume)"
   ]
  },
  {
   "cell_type": "markdown",
   "id": "a23aba45",
   "metadata": {},
   "source": [
    "## Single Ray"
   ]
  },
  {
   "cell_type": "code",
   "execution_count": 3,
   "id": "f91ae6ed",
   "metadata": {},
   "outputs": [
    {
     "data": {
      "text/plain": [
       "tensor(0.2437, grad_fn=<AddBackward0>)"
      ]
     },
     "execution_count": 3,
     "metadata": {},
     "output_type": "execute_result"
    }
   ],
   "source": [
    "# Test the raytrace function\n",
    "source = [-1.5, -1.0, -1.0]\n",
    "target = [6.0, 6.0, 6.0]\n",
    "\n",
    "source = torch.tensor(source, requires_grad=True)\n",
    "target = torch.tensor(target, requires_grad=True)\n",
    "\n",
    "radiologic_path_length = siddon.raytrace(source, target)\n",
    "radiologic_path_length"
   ]
  },
  {
   "cell_type": "code",
   "execution_count": 4,
   "id": "138b68dc",
   "metadata": {},
   "outputs": [
    {
     "data": {
      "text/plain": [
       "(tensor([-0.0312,  0.1022, -0.0340]), tensor([-0.0042,  0.0042, -0.0345]))"
      ]
     },
     "execution_count": 4,
     "metadata": {},
     "output_type": "execute_result"
    }
   ],
   "source": [
    "# Test backwards AD\n",
    "radiologic_path_length.backward()\n",
    "\n",
    "source.grad, target.grad"
   ]
  },
  {
   "cell_type": "markdown",
   "id": "d970149b",
   "metadata": {},
   "source": [
    "This implementation of the `Siddon` raytracing method is differentiable with respect to the `source` and `target` locations, the spatial parameters of our simulated X-ray setup."
   ]
  },
  {
   "cell_type": "code",
   "execution_count": 5,
   "id": "14fe8a26",
   "metadata": {},
   "outputs": [
    {
     "name": "stdout",
     "output_type": "stream",
     "text": [
      "350 µs ± 4.91 µs per loop (mean ± std. dev. of 7 runs, 1,000 loops each)\n"
     ]
    }
   ],
   "source": [
    "# Timing experiment results on single-core CPU\n",
    "%timeit siddon.raytrace(source, target)"
   ]
  },
  {
   "cell_type": "markdown",
   "id": "12aacb96",
   "metadata": {},
   "source": [
    "## Detector Plane"
   ]
  },
  {
   "cell_type": "code",
   "execution_count": 6,
   "id": "a708a71b",
   "metadata": {},
   "outputs": [],
   "source": [
    "source = [-1.5, -1.0, -1.0]\n",
    "target = [6.0, 6.0, 6.0]\n",
    "\n",
    "detector = Detector(\n",
    "    source=source,\n",
    "    center=target,\n",
    "    height=3,\n",
    "    width=3,\n",
    "    delx=0.1,\n",
    "    dely=0.1,\n",
    ")\n",
    "\n",
    "rays = detector.make_xrays()"
   ]
  },
  {
   "cell_type": "code",
   "execution_count": 7,
   "id": "03a780cd",
   "metadata": {},
   "outputs": [
    {
     "data": {
      "text/plain": [
       "[(tensor([-1.5000, -1.0000, -1.0000], requires_grad=True),\n",
       "  tensor([6.0538, 6.1645, 5.7778], grad_fn=<AddBackward0>)),\n",
       " (tensor([-1.5000, -1.0000, -1.0000], requires_grad=True),\n",
       "  tensor([6.0949, 6.0823, 5.8161], grad_fn=<AddBackward0>)),\n",
       " (tensor([-1.5000, -1.0000, -1.0000], requires_grad=True),\n",
       "  tensor([6.1359, 6.0000, 5.8544], grad_fn=<AddBackward0>)),\n",
       " (tensor([-1.5000, -1.0000, -1.0000], requires_grad=True),\n",
       "  tensor([5.9859, 6.1645, 5.8506], grad_fn=<AddBackward0>)),\n",
       " (tensor([-1.5000, -1.0000, -1.0000], requires_grad=True),\n",
       "  tensor([6.0269, 6.0823, 5.8889], grad_fn=<AddBackward0>)),\n",
       " (tensor([-1.5000, -1.0000, -1.0000], requires_grad=True),\n",
       "  tensor([6.0679, 6.0000, 5.9272], grad_fn=<AddBackward0>)),\n",
       " (tensor([-1.5000, -1.0000, -1.0000], requires_grad=True),\n",
       "  tensor([5.9179, 6.1645, 5.9234], grad_fn=<AddBackward0>)),\n",
       " (tensor([-1.5000, -1.0000, -1.0000], requires_grad=True),\n",
       "  tensor([5.9590, 6.0823, 5.9617], grad_fn=<AddBackward0>)),\n",
       " (tensor([-1.5000, -1.0000, -1.0000], requires_grad=True),\n",
       "  tensor([6., 6., 6.], grad_fn=<AddBackward0>))]"
      ]
     },
     "execution_count": 7,
     "metadata": {},
     "output_type": "execute_result"
    }
   ],
   "source": [
    "rays"
   ]
  },
  {
   "cell_type": "code",
   "execution_count": 8,
   "id": "0d716ac8",
   "metadata": {},
   "outputs": [],
   "source": [
    "drr = [siddon.raytrace(source, target) for source, target in rays]"
   ]
  },
  {
   "cell_type": "code",
   "execution_count": 9,
   "id": "7aec9353",
   "metadata": {},
   "outputs": [
    {
     "data": {
      "text/plain": [
       "tensor([[0.2521, 0.2502, 0.2483],\n",
       "        [0.2497, 0.2479, 0.2460],\n",
       "        [0.2474, 0.2456, 0.2437]])"
      ]
     },
     "execution_count": 9,
     "metadata": {},
     "output_type": "execute_result"
    }
   ],
   "source": [
    "torch.tensor(drr).reshape(3, 3)"
   ]
  },
  {
   "cell_type": "code",
   "execution_count": null,
   "id": "20aa35c8",
   "metadata": {},
   "outputs": [],
   "source": []
  }
 ],
 "metadata": {
  "@webio": {
   "lastCommId": null,
   "lastKernelId": null
  },
  "kernelspec": {
   "display_name": "Python [conda env:diffdrr]",
   "language": "python",
   "name": "conda-env-diffdrr-py"
  },
  "language_info": {
   "codemirror_mode": {
    "name": "ipython",
    "version": 3
   },
   "file_extension": ".py",
   "mimetype": "text/x-python",
   "name": "python",
   "nbconvert_exporter": "python",
   "pygments_lexer": "ipython3",
   "version": "3.8.13"
  }
 },
 "nbformat": 4,
 "nbformat_minor": 5
}
