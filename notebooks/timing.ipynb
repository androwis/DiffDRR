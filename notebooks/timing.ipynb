{
 "cells": [
  {
   "cell_type": "code",
   "execution_count": 1,
   "id": "28ec46c3",
   "metadata": {},
   "outputs": [
    {
     "name": "stdout",
     "output_type": "stream",
     "text": [
      "1.12.0\n"
     ]
    }
   ],
   "source": [
    "import torch\n",
    "\n",
    "from src import read_dicom, Detector, Siddon, SiddonJacobs\n",
    "\n",
    "print(torch.__version__)\n",
    "device = torch.device(\"cuda:0\" if torch.cuda.is_available() else \"cpu\")"
   ]
  },
  {
   "cell_type": "code",
   "execution_count": 2,
   "id": "25cc2cd5",
   "metadata": {},
   "outputs": [],
   "source": [
    "source = [-10., -10., -15.]\n",
    "center = [400., 375., 350.]\n",
    "\n",
    "def foo(source=source, center=center, height=101):\n",
    "    detector = Detector(\n",
    "        source=source,\n",
    "        center=center,\n",
    "        height=height,\n",
    "        width=height,\n",
    "        delx=0.1,\n",
    "        dely=0.1,\n",
    "        device=device\n",
    "    )\n",
    "\n",
    "    source = detector.source\n",
    "    rays = detector.make_xrays()\n",
    "    \n",
    "    return source, rays"
   ]
  },
  {
   "cell_type": "code",
   "execution_count": 3,
   "id": "a34df417",
   "metadata": {},
   "outputs": [],
   "source": [
    "volume, spacing = read_dicom(\"../data/cxr/\")\n",
    "isocenter = [0.0, 0.0, 0.0]"
   ]
  },
  {
   "cell_type": "code",
   "execution_count": 4,
   "id": "086516f9",
   "metadata": {},
   "outputs": [
    {
     "name": "stdout",
     "output_type": "stream",
     "text": [
      "20 ms ± 82.5 µs per loop (mean ± std. dev. of 7 runs, 10 loops each)\n",
      "400 ms ± 723 µs per loop (mean ± std. dev. of 7 runs, 1 loop each)\n"
     ]
    }
   ],
   "source": [
    "source, rays = foo(height=101)\n",
    "\n",
    "siddon = Siddon(spacing, isocenter, volume, device)\n",
    "%timeit siddon.raytrace(source, rays)\n",
    "\n",
    "siddonjacobs = SiddonJacobs(spacing, isocenter, volume, device)\n",
    "%timeit siddonjacobs.raytrace(source, rays)"
   ]
  },
  {
   "cell_type": "code",
   "execution_count": 5,
   "id": "9db204ac",
   "metadata": {},
   "outputs": [
    {
     "name": "stdout",
     "output_type": "stream",
     "text": [
      "78.5 ms ± 93.1 µs per loop (mean ± std. dev. of 7 runs, 10 loops each)\n",
      "408 ms ± 3.14 ms per loop (mean ± std. dev. of 7 runs, 1 loop each)\n"
     ]
    }
   ],
   "source": [
    "source, rays = foo(height=201)\n",
    "\n",
    "siddon = Siddon(spacing, isocenter, volume, device)\n",
    "%timeit siddon.raytrace(source, rays)\n",
    "del siddon\n",
    "\n",
    "siddonjacobs = SiddonJacobs(spacing, isocenter, volume, device)\n",
    "%timeit siddonjacobs.raytrace(source, rays)\n",
    "del siddonjacobs"
   ]
  },
  {
   "cell_type": "code",
   "execution_count": 6,
   "id": "18ab3fb5",
   "metadata": {},
   "outputs": [
    {
     "name": "stdout",
     "output_type": "stream",
     "text": [
      "177 ms ± 271 µs per loop (mean ± std. dev. of 7 runs, 10 loops each)\n",
      "423 ms ± 15.4 ms per loop (mean ± std. dev. of 7 runs, 1 loop each)\n"
     ]
    }
   ],
   "source": [
    "source, rays = foo(height=301)\n",
    "\n",
    "siddon = Siddon(spacing, isocenter, volume, device)\n",
    "%timeit siddon.raytrace(source, rays)\n",
    "del siddon\n",
    "\n",
    "siddonjacobs = SiddonJacobs(spacing, isocenter, volume, device)\n",
    "%timeit siddonjacobs.raytrace(source, rays)\n",
    "del siddonjacobs"
   ]
  },
  {
   "cell_type": "code",
   "execution_count": 7,
   "id": "c9a1b0ef",
   "metadata": {},
   "outputs": [
    {
     "name": "stdout",
     "output_type": "stream",
     "text": [
      "321 ms ± 335 µs per loop (mean ± std. dev. of 7 runs, 10 loops each)\n",
      "418 ms ± 2.57 ms per loop (mean ± std. dev. of 7 runs, 1 loop each)\n"
     ]
    }
   ],
   "source": [
    "source, rays = foo(height=401)\n",
    "\n",
    "siddon = Siddon(spacing, isocenter, volume, device)\n",
    "%timeit siddon.raytrace(source, rays)\n",
    "del siddon\n",
    "\n",
    "siddonjacobs = SiddonJacobs(spacing, isocenter, volume, device)\n",
    "%timeit siddonjacobs.raytrace(source, rays)\n",
    "del siddonjacobs"
   ]
  },
  {
   "cell_type": "code",
   "execution_count": null,
   "id": "f9d05888",
   "metadata": {},
   "outputs": [],
   "source": []
  }
 ],
 "metadata": {
  "@webio": {
   "lastCommId": null,
   "lastKernelId": null
  },
  "kernelspec": {
   "display_name": "Python [conda env:DiffDRR]",
   "language": "python",
   "name": "conda-env-DiffDRR-py"
  },
  "language_info": {
   "codemirror_mode": {
    "name": "ipython",
    "version": 3
   },
   "file_extension": ".py",
   "mimetype": "text/x-python",
   "name": "python",
   "nbconvert_exporter": "python",
   "pygments_lexer": "ipython3",
   "version": "3.7.13"
  }
 },
 "nbformat": 4,
 "nbformat_minor": 5
}
