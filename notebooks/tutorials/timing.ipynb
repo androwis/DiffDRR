{
 "cells": [
  {
   "cell_type": "raw",
   "id": "74264061",
   "metadata": {},
   "source": [
    "---\n",
    "output-file: timing.html\n",
    "skip_exec: true\n",
    "title: Timing versus DRR size\n",
    "\n",
    "---\n",
    "\n"
   ]
  },
  {
   "cell_type": "code",
   "execution_count": null,
   "id": "28ec46c3",
   "metadata": {},
   "outputs": [],
   "source": [
    "import numpy as np\n",
    "import torch\n",
    "\n",
    "from diffdrr.drr import DRR\n",
    "from diffdrr.data import load_example_ct\n",
    "from diffdrr.visualization import plot_drr"
   ]
  },
  {
   "cell_type": "code",
   "execution_count": null,
   "id": "5430b880-75c5-4c74-b01d-4be5cf664354",
   "metadata": {},
   "outputs": [],
   "source": [
    "# Read in the volume\n",
    "volume, spacing = load_example_ct()\n",
    "\n",
    "# Get parameters for the detector\n",
    "bx, by, bz = np.array(volume.shape) * np.array(spacing) / 2\n",
    "detector_kwargs = {\n",
    "    \"sdr\"   : 0.1,\n",
    "    \"theta\" : np.pi,\n",
    "    \"phi\"   : 0,\n",
    "    \"gamma\" : np.pi / 2,\n",
    "    \"bx\"    : bx,\n",
    "    \"by\"    : by,\n",
    "    \"bz\"    : bz,\n",
    "}"
   ]
  },
  {
   "cell_type": "code",
   "execution_count": null,
   "id": "086516f9",
   "metadata": {},
   "outputs": [
    {
     "name": "stdout",
     "output_type": "stream",
     "text": [
      "9.41 ms ± 165 µs per loop (mean ± std. dev. of 7 runs, 1 loop each)\n"
     ]
    }
   ],
   "source": [
    "#|cuda\n",
    "height = 100\n",
    "\n",
    "drr = DRR(volume, spacing, height=height, delx=4.0).to(\"cuda\" if torch.cuda.is_available() else \"cpu\")\n",
    "%timeit drr.project(**detector_kwargs)\n",
    "del drr"
   ]
  },
  {
   "cell_type": "code",
   "execution_count": null,
   "id": "9db204ac",
   "metadata": {},
   "outputs": [
    {
     "name": "stdout",
     "output_type": "stream",
     "text": [
      "29.1 ms ± 50.3 µs per loop (mean ± std. dev. of 7 runs, 10 loops each)\n"
     ]
    }
   ],
   "source": [
    "#|cuda\n",
    "height = 200\n",
    "\n",
    "drr = DRR(volume, spacing, height=height, delx=4.0).to(\"cuda\" if torch.cuda.is_available() else \"cpu\")\n",
    "%timeit drr.project(**detector_kwargs)\n",
    "del drr"
   ]
  },
  {
   "cell_type": "code",
   "execution_count": null,
   "id": "18ab3fb5",
   "metadata": {},
   "outputs": [
    {
     "name": "stdout",
     "output_type": "stream",
     "text": [
      "62.7 ms ± 44.2 µs per loop (mean ± std. dev. of 7 runs, 10 loops each)\n"
     ]
    }
   ],
   "source": [
    "#|cuda\n",
    "height = 300\n",
    "\n",
    "drr = DRR(volume, spacing, height=height, delx=4.0).to(\"cuda\" if torch.cuda.is_available() else \"cpu\")\n",
    "%timeit drr.project(**detector_kwargs)\n",
    "del drr"
   ]
  },
  {
   "cell_type": "code",
   "execution_count": null,
   "id": "c9a1b0ef",
   "metadata": {},
   "outputs": [
    {
     "name": "stdout",
     "output_type": "stream",
     "text": [
      "110 ms ± 89.8 µs per loop (mean ± std. dev. of 7 runs, 10 loops each)\n"
     ]
    }
   ],
   "source": [
    "#|cuda\n",
    "height = 400\n",
    "\n",
    "drr = DRR(volume, spacing, height=height, delx=4.0).to(\"cuda\" if torch.cuda.is_available() else \"cpu\")\n",
    "%timeit drr.project(**detector_kwargs)\n",
    "del drr"
   ]
  },
  {
   "cell_type": "code",
   "execution_count": null,
   "id": "da0c1156-3c6b-4c45-8207-ffe801a54893",
   "metadata": {},
   "outputs": [
    {
     "name": "stdout",
     "output_type": "stream",
     "text": [
      "183 ms ± 36 ms per loop (mean ± std. dev. of 7 runs, 1 loop each)\n"
     ]
    }
   ],
   "source": [
    "#|cuda\n",
    "height = 500\n",
    "\n",
    "drr = DRR(volume, spacing, height=height, delx=4.0).to(\"cuda\" if torch.cuda.is_available() else \"cpu\")\n",
    "%timeit drr.project(**detector_kwargs)\n",
    "del drr"
   ]
  },
  {
   "cell_type": "code",
   "execution_count": null,
   "id": "7980a429-673c-4f46-bb14-753918f60e98",
   "metadata": {},
   "outputs": [
    {
     "ename": "OutOfMemoryError",
     "evalue": "CUDA out of memory. Tried to allocate 3.11 GiB (GPU 0; 10.75 GiB total capacity; 5.21 GiB already allocated; 2.02 GiB free; 7.88 GiB reserved in total by PyTorch) If reserved memory is >> allocated memory try setting max_split_size_mb to avoid fragmentation.  See documentation for Memory Management and PYTORCH_CUDA_ALLOC_CONF",
     "output_type": "error",
     "traceback": [
      "\u001b[0;31m---------------------------------------------------------------------------\u001b[0m",
      "\u001b[0;31mOutOfMemoryError\u001b[0m                          Traceback (most recent call last)",
      "Cell \u001b[0;32mIn[8], line 5\u001b[0m\n\u001b[1;32m      2\u001b[0m height \u001b[38;5;241m=\u001b[39m \u001b[38;5;241m600\u001b[39m\n\u001b[1;32m      4\u001b[0m drr \u001b[38;5;241m=\u001b[39m DRR(volume, spacing, height\u001b[38;5;241m=\u001b[39mheight, delx\u001b[38;5;241m=\u001b[39m\u001b[38;5;241m4.0\u001b[39m)\u001b[38;5;241m.\u001b[39mto(\u001b[38;5;124m\"\u001b[39m\u001b[38;5;124mcuda\u001b[39m\u001b[38;5;124m\"\u001b[39m \u001b[38;5;28;01mif\u001b[39;00m torch\u001b[38;5;241m.\u001b[39mcuda\u001b[38;5;241m.\u001b[39mis_available() \u001b[38;5;28;01melse\u001b[39;00m \u001b[38;5;124m\"\u001b[39m\u001b[38;5;124mcpu\u001b[39m\u001b[38;5;124m\"\u001b[39m)\n\u001b[0;32m----> 5\u001b[0m \u001b[43mget_ipython\u001b[49m\u001b[43m(\u001b[49m\u001b[43m)\u001b[49m\u001b[38;5;241;43m.\u001b[39;49m\u001b[43mrun_line_magic\u001b[49m\u001b[43m(\u001b[49m\u001b[38;5;124;43m'\u001b[39;49m\u001b[38;5;124;43mtimeit\u001b[39;49m\u001b[38;5;124;43m'\u001b[39;49m\u001b[43m,\u001b[49m\u001b[43m \u001b[49m\u001b[38;5;124;43m'\u001b[39;49m\u001b[38;5;124;43mdrr.project(**detector_kwargs)\u001b[39;49m\u001b[38;5;124;43m'\u001b[39;49m\u001b[43m)\u001b[49m\n\u001b[1;32m      6\u001b[0m \u001b[38;5;28;01mdel\u001b[39;00m drr\n",
      "File \u001b[0;32m/data/vision/polina/users/vivekg/utils/mambaforge/envs/diffdrr/lib/python3.11/site-packages/IPython/core/interactiveshell.py:2369\u001b[0m, in \u001b[0;36mInteractiveShell.run_line_magic\u001b[0;34m(self, magic_name, line, _stack_depth)\u001b[0m\n\u001b[1;32m   2367\u001b[0m     kwargs[\u001b[38;5;124m'\u001b[39m\u001b[38;5;124mlocal_ns\u001b[39m\u001b[38;5;124m'\u001b[39m] \u001b[38;5;241m=\u001b[39m \u001b[38;5;28mself\u001b[39m\u001b[38;5;241m.\u001b[39mget_local_scope(stack_depth)\n\u001b[1;32m   2368\u001b[0m \u001b[38;5;28;01mwith\u001b[39;00m \u001b[38;5;28mself\u001b[39m\u001b[38;5;241m.\u001b[39mbuiltin_trap:\n\u001b[0;32m-> 2369\u001b[0m     result \u001b[38;5;241m=\u001b[39m \u001b[43mfn\u001b[49m\u001b[43m(\u001b[49m\u001b[38;5;241;43m*\u001b[39;49m\u001b[43margs\u001b[49m\u001b[43m,\u001b[49m\u001b[43m \u001b[49m\u001b[38;5;241;43m*\u001b[39;49m\u001b[38;5;241;43m*\u001b[39;49m\u001b[43mkwargs\u001b[49m\u001b[43m)\u001b[49m\n\u001b[1;32m   2371\u001b[0m \u001b[38;5;66;03m# The code below prevents the output from being displayed\u001b[39;00m\n\u001b[1;32m   2372\u001b[0m \u001b[38;5;66;03m# when using magics with decodator @output_can_be_silenced\u001b[39;00m\n\u001b[1;32m   2373\u001b[0m \u001b[38;5;66;03m# when the last Python token in the expression is a ';'.\u001b[39;00m\n\u001b[1;32m   2374\u001b[0m \u001b[38;5;28;01mif\u001b[39;00m \u001b[38;5;28mgetattr\u001b[39m(fn, magic\u001b[38;5;241m.\u001b[39mMAGIC_OUTPUT_CAN_BE_SILENCED, \u001b[38;5;28;01mFalse\u001b[39;00m):\n",
      "File \u001b[0;32m/data/vision/polina/users/vivekg/utils/mambaforge/envs/diffdrr/lib/python3.11/site-packages/IPython/core/magics/execution.py:1164\u001b[0m, in \u001b[0;36mExecutionMagics.timeit\u001b[0;34m(self, line, cell, local_ns)\u001b[0m\n\u001b[1;32m   1162\u001b[0m \u001b[38;5;28;01mfor\u001b[39;00m index \u001b[38;5;129;01min\u001b[39;00m \u001b[38;5;28mrange\u001b[39m(\u001b[38;5;241m0\u001b[39m, \u001b[38;5;241m10\u001b[39m):\n\u001b[1;32m   1163\u001b[0m     number \u001b[38;5;241m=\u001b[39m \u001b[38;5;241m10\u001b[39m \u001b[38;5;241m*\u001b[39m\u001b[38;5;241m*\u001b[39m index\n\u001b[0;32m-> 1164\u001b[0m     time_number \u001b[38;5;241m=\u001b[39m \u001b[43mtimer\u001b[49m\u001b[38;5;241;43m.\u001b[39;49m\u001b[43mtimeit\u001b[49m\u001b[43m(\u001b[49m\u001b[43mnumber\u001b[49m\u001b[43m)\u001b[49m\n\u001b[1;32m   1165\u001b[0m     \u001b[38;5;28;01mif\u001b[39;00m time_number \u001b[38;5;241m>\u001b[39m\u001b[38;5;241m=\u001b[39m \u001b[38;5;241m0.2\u001b[39m:\n\u001b[1;32m   1166\u001b[0m         \u001b[38;5;28;01mbreak\u001b[39;00m\n",
      "File \u001b[0;32m/data/vision/polina/users/vivekg/utils/mambaforge/envs/diffdrr/lib/python3.11/site-packages/IPython/core/magics/execution.py:158\u001b[0m, in \u001b[0;36mTimer.timeit\u001b[0;34m(self, number)\u001b[0m\n\u001b[1;32m    156\u001b[0m gc\u001b[38;5;241m.\u001b[39mdisable()\n\u001b[1;32m    157\u001b[0m \u001b[38;5;28;01mtry\u001b[39;00m:\n\u001b[0;32m--> 158\u001b[0m     timing \u001b[38;5;241m=\u001b[39m \u001b[38;5;28;43mself\u001b[39;49m\u001b[38;5;241;43m.\u001b[39;49m\u001b[43minner\u001b[49m\u001b[43m(\u001b[49m\u001b[43mit\u001b[49m\u001b[43m,\u001b[49m\u001b[43m \u001b[49m\u001b[38;5;28;43mself\u001b[39;49m\u001b[38;5;241;43m.\u001b[39;49m\u001b[43mtimer\u001b[49m\u001b[43m)\u001b[49m\n\u001b[1;32m    159\u001b[0m \u001b[38;5;28;01mfinally\u001b[39;00m:\n\u001b[1;32m    160\u001b[0m     \u001b[38;5;28;01mif\u001b[39;00m gcold:\n",
      "File \u001b[0;32m<magic-timeit>:1\u001b[0m, in \u001b[0;36minner\u001b[0;34m(_it, _timer)\u001b[0m\n",
      "File \u001b[0;32m/data/vision/polina/users/vivekg/DiffDRR/diffdrr/drr.py:117\u001b[0m, in \u001b[0;36mproject\u001b[0;34m(self, sdr, theta, phi, gamma, bx, by, bz)\u001b[0m\n\u001b[1;32m    111\u001b[0m translations \u001b[38;5;241m=\u001b[39m torch\u001b[38;5;241m.\u001b[39mtensor([[bx, by, bz]])\u001b[38;5;241m.\u001b[39mto(\u001b[38;5;28mself\u001b[39m\u001b[38;5;241m.\u001b[39mdummy)\n\u001b[1;32m    112\u001b[0m source, target \u001b[38;5;241m=\u001b[39m \u001b[38;5;28mself\u001b[39m\u001b[38;5;241m.\u001b[39mdetector\u001b[38;5;241m.\u001b[39mmake_xrays(\n\u001b[1;32m    113\u001b[0m     sdr\u001b[38;5;241m=\u001b[39msdr,\n\u001b[1;32m    114\u001b[0m     rotations\u001b[38;5;241m=\u001b[39mrotations,\n\u001b[1;32m    115\u001b[0m     translations\u001b[38;5;241m=\u001b[39mtranslations,\n\u001b[1;32m    116\u001b[0m )\n\u001b[0;32m--> 117\u001b[0m img \u001b[38;5;241m=\u001b[39m \u001b[43msiddon_raycast\u001b[49m\u001b[43m(\u001b[49m\u001b[43msource\u001b[49m\u001b[43m,\u001b[49m\u001b[43m \u001b[49m\u001b[43mtarget\u001b[49m\u001b[43m,\u001b[49m\u001b[43m \u001b[49m\u001b[38;5;28;43mself\u001b[39;49m\u001b[38;5;241;43m.\u001b[39;49m\u001b[43mvolume\u001b[49m\u001b[43m,\u001b[49m\u001b[43m \u001b[49m\u001b[38;5;28;43mself\u001b[39;49m\u001b[38;5;241;43m.\u001b[39;49m\u001b[43mspacing\u001b[49m\u001b[43m)\u001b[49m\n\u001b[1;32m    118\u001b[0m \u001b[38;5;28;01mreturn\u001b[39;00m \u001b[38;5;28mself\u001b[39m\u001b[38;5;241m.\u001b[39mreshape_transform(img, batch_size\u001b[38;5;241m=\u001b[39m\u001b[38;5;28mlen\u001b[39m(sdr))\n",
      "File \u001b[0;32m/data/vision/polina/users/vivekg/DiffDRR/diffdrr/siddon.py:19\u001b[0m, in \u001b[0;36msiddon_raycast\u001b[0;34m(source, target, volume, spacing, eps)\u001b[0m\n\u001b[1;32m     17\u001b[0m \u001b[38;5;250m\u001b[39m\u001b[38;5;124;03m\"\"\"Compute Siddon's method.\"\"\"\u001b[39;00m\n\u001b[1;32m     18\u001b[0m dims \u001b[38;5;241m=\u001b[39m torch\u001b[38;5;241m.\u001b[39mtensor(volume\u001b[38;5;241m.\u001b[39mshape) \u001b[38;5;241m+\u001b[39m \u001b[38;5;241m1\u001b[39m\n\u001b[0;32m---> 19\u001b[0m alphas, maxidx \u001b[38;5;241m=\u001b[39m \u001b[43m_get_alphas\u001b[49m\u001b[43m(\u001b[49m\u001b[43msource\u001b[49m\u001b[43m,\u001b[49m\u001b[43m \u001b[49m\u001b[43mtarget\u001b[49m\u001b[43m,\u001b[49m\u001b[43m \u001b[49m\u001b[43mspacing\u001b[49m\u001b[43m,\u001b[49m\u001b[43m \u001b[49m\u001b[43mdims\u001b[49m\u001b[43m,\u001b[49m\u001b[43m \u001b[49m\u001b[43meps\u001b[49m\u001b[43m)\u001b[49m\n\u001b[1;32m     20\u001b[0m alphamid \u001b[38;5;241m=\u001b[39m (alphas[\u001b[38;5;241m.\u001b[39m\u001b[38;5;241m.\u001b[39m\u001b[38;5;241m.\u001b[39m, \u001b[38;5;241m0\u001b[39m:\u001b[38;5;241m-\u001b[39m\u001b[38;5;241m1\u001b[39m] \u001b[38;5;241m+\u001b[39m alphas[\u001b[38;5;241m.\u001b[39m\u001b[38;5;241m.\u001b[39m\u001b[38;5;241m.\u001b[39m, \u001b[38;5;241m1\u001b[39m:]) \u001b[38;5;241m/\u001b[39m \u001b[38;5;241m2\u001b[39m\n\u001b[1;32m     21\u001b[0m voxels \u001b[38;5;241m=\u001b[39m _get_voxel(alphamid, source, target, volume, spacing, dims, maxidx, eps)\n",
      "File \u001b[0;32m/data/vision/polina/users/vivekg/DiffDRR/diffdrr/siddon.py:62\u001b[0m, in \u001b[0;36m_get_alphas\u001b[0;34m(source, target, spacing, dims, eps)\u001b[0m\n\u001b[1;32m     58\u001b[0m alphas[\u001b[38;5;241m~\u001b[39mgood_idxs] \u001b[38;5;241m=\u001b[39m torch\u001b[38;5;241m.\u001b[39mnan\n\u001b[1;32m     60\u001b[0m \u001b[38;5;66;03m# # Sort the alphas by ray, putting nans at the end of the list\u001b[39;00m\n\u001b[1;32m     61\u001b[0m \u001b[38;5;66;03m# # Drop indices where alphas for all rays are nan\u001b[39;00m\n\u001b[0;32m---> 62\u001b[0m alphas \u001b[38;5;241m=\u001b[39m \u001b[43mtorch\u001b[49m\u001b[38;5;241;43m.\u001b[39;49m\u001b[43msort\u001b[49m\u001b[43m(\u001b[49m\u001b[43malphas\u001b[49m\u001b[43m,\u001b[49m\u001b[43m \u001b[49m\u001b[43mdim\u001b[49m\u001b[38;5;241;43m=\u001b[39;49m\u001b[38;5;241;43m-\u001b[39;49m\u001b[38;5;241;43m1\u001b[39;49m\u001b[43m)\u001b[49m\u001b[38;5;241m.\u001b[39mvalues\n\u001b[1;32m     63\u001b[0m alphas \u001b[38;5;241m=\u001b[39m alphas[\u001b[38;5;241m.\u001b[39m\u001b[38;5;241m.\u001b[39m\u001b[38;5;241m.\u001b[39m, \u001b[38;5;241m~\u001b[39malphas\u001b[38;5;241m.\u001b[39misnan()\u001b[38;5;241m.\u001b[39mall(dim\u001b[38;5;241m=\u001b[39m\u001b[38;5;241m0\u001b[39m)\u001b[38;5;241m.\u001b[39mall(dim\u001b[38;5;241m=\u001b[39m\u001b[38;5;241m0\u001b[39m)]\n\u001b[1;32m     64\u001b[0m \u001b[38;5;28;01mreturn\u001b[39;00m alphas, maxidx\n",
      "\u001b[0;31mOutOfMemoryError\u001b[0m: CUDA out of memory. Tried to allocate 3.11 GiB (GPU 0; 10.75 GiB total capacity; 5.21 GiB already allocated; 2.02 GiB free; 7.88 GiB reserved in total by PyTorch) If reserved memory is >> allocated memory try setting max_split_size_mb to avoid fragmentation.  See documentation for Memory Management and PYTORCH_CUDA_ALLOC_CONF"
     ]
    }
   ],
   "source": [
    "#|cuda\n",
    "height = 600\n",
    "\n",
    "drr = DRR(volume, spacing, height=height, delx=4.0).to(\"cuda\" if torch.cuda.is_available() else \"cpu\")\n",
    "%timeit drr.project(**detector_kwargs)\n",
    "del drr"
   ]
  },
  {
   "cell_type": "code",
   "execution_count": null,
   "id": "42b712ba-2ce4-470a-8db7-92b9fed933ff",
   "metadata": {},
   "outputs": [],
   "source": []
  }
 ],
 "metadata": {
  "kernelspec": {
   "display_name": "python3",
   "language": "python",
   "name": "python3"
  }
 },
 "nbformat": 4,
 "nbformat_minor": 5
}
