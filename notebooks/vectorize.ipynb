{
 "cells": [
  {
   "cell_type": "code",
   "execution_count": 1,
   "id": "f55d3cad",
   "metadata": {},
   "outputs": [],
   "source": [
    "import matplotlib.pyplot as plt\n",
    "import torch\n",
    "\n",
    "from src import read_dicom, Detector, SiddonJacobs\n",
    "\n",
    "device = torch.device(\"cuda:0\")"
   ]
  },
  {
   "cell_type": "code",
   "execution_count": 2,
   "id": "4e36461c",
   "metadata": {},
   "outputs": [],
   "source": [
    "# Make a random detector\n",
    "source = [-100., 181., 161.]\n",
    "center = [400., 180., 160.]\n",
    "\n",
    "detector = Detector(\n",
    "    source=source,\n",
    "    center=center,\n",
    "    height=101,\n",
    "    width=101,\n",
    "    delx=4.,\n",
    "    dely=4.,\n",
    "    device=device\n",
    ")\n",
    "\n",
    "source = detector.source\n",
    "rays = detector.make_xrays()"
   ]
  },
  {
   "cell_type": "code",
   "execution_count": 3,
   "id": "8c637f0f",
   "metadata": {},
   "outputs": [],
   "source": [
    "# Read in the volume\n",
    "volume, spacing = read_dicom(\"../data/cxr/\")\n",
    "\n",
    "# Get alphamin and alpha max\n",
    "isocenter = [0., 0., 0.]\n",
    "siddon = SiddonJacobs(spacing, isocenter, volume, device)\n",
    "alphamin, alphamax, _, _ = siddon.get_alpha_minmax(source, rays)\n",
    "\n",
    "# Get CT size and spacing parameters\n",
    "nx, ny, nz = siddon.volume.shape\n",
    "dx, dy, dz = siddon.spacing\n",
    "\n",
    "# Get the alpha at each plane\n",
    "sx, sy, sz = detector.source\n",
    "alphax = torch.arange(nx, dtype=torch.float32, device=device) * dx + sx\n",
    "alphay = torch.arange(ny, dtype=torch.float32, device=device) * dy + sy\n",
    "alphaz = torch.arange(nz, dtype=torch.float32, device=device) * dz + sz\n",
    "\n",
    "target = rays - source\n",
    "alphax = alphax.unsqueeze(-1).unsqueeze(-1) / target[:, :, 0]\n",
    "alphay = alphay.unsqueeze(-1).unsqueeze(-1) / target[:, :, 1]\n",
    "alphaz = alphaz.unsqueeze(-1).unsqueeze(-1) / target[:, :, 2]"
   ]
  },
  {
   "cell_type": "code",
   "execution_count": 4,
   "id": "914f0b16",
   "metadata": {},
   "outputs": [
    {
     "data": {
      "text/plain": [
       "torch.Size([1157, 101, 101])"
      ]
     },
     "execution_count": 4,
     "metadata": {},
     "output_type": "execute_result"
    }
   ],
   "source": [
    "# Combine all alphas and get those in [alphamin, alphamax]\n",
    "alphas = torch.vstack([alphax, alphay, alphaz])\n",
    "g_idxs = torch.logical_and(alphas >= alphamin, alphas <= alphamax)\n",
    "alphas[~g_idxs] = torch.nan\n",
    "\n",
    "# Sorting puts the nans at the end of the list\n",
    "alphas = alphas.sort(dim=0).values\n",
    "alphas.shape"
   ]
  },
  {
   "cell_type": "code",
   "execution_count": 5,
   "id": "42be3226",
   "metadata": {},
   "outputs": [
    {
     "name": "stdout",
     "output_type": "stream",
     "text": [
      "torch.Size([1156, 101, 101])\n"
     ]
    }
   ],
   "source": [
    "# Get alphamids\n",
    "alphamid = (alphas[0:-1] + alphas[1:]) / 2\n",
    "print(alphamid.shape)\n",
    "\n",
    "# Convert alphamid to voxel index\n",
    "idxs = ((source + alphamid.unsqueeze(-1) * (target) - siddon.isocenter) / siddon.spacing).trunc()\n",
    "idxs = (idxs[:, :, :, 0] + idxs[:, :, :, 1] * siddon.volume.shape[1] + idxs[:, :, :, 2] * siddon.volume.shape[2]).long()\n",
    "idxs[idxs < 0] = 0  # long converts nan to -int, convert back to zero"
   ]
  },
  {
   "cell_type": "code",
   "execution_count": 6,
   "id": "da4986e2",
   "metadata": {},
   "outputs": [
    {
     "name": "stdout",
     "output_type": "stream",
     "text": [
      "torch.Size([1156, 101, 101])\n",
      "torch.Size([1156, 101, 101])\n"
     ]
    }
   ],
   "source": [
    "# Get voxel value\n",
    "voxels = torch.take(siddon.volume, idxs)\n",
    "print(voxels.shape)\n",
    "\n",
    "# Get the step length\n",
    "step_length = torch.diff(alphas, dim=0)\n",
    "print(step_length.shape)\n",
    "\n",
    "# Get DRR!!!!\n",
    "drr = torch.nansum(voxels * step_length, dim=0)"
   ]
  },
  {
   "cell_type": "code",
   "execution_count": 7,
   "id": "9e44ba02",
   "metadata": {},
   "outputs": [
    {
     "data": {
      "image/png": "[encoded data removed]",
      "text/plain": [
       "<Figure size 432x288 with 2 Axes>"
      ]
     },
     "metadata": {
      "needs_background": "light"
     },
     "output_type": "display_data"
    }
   ],
   "source": [
    "# DRR still looks a little funky\n",
    "plt.imshow(drr.detach().cpu(), cmap=\"gray\")\n",
    "plt.colorbar()\n",
    "plt.show()"
   ]
  },
  {
   "cell_type": "code",
   "execution_count": 12,
   "id": "b2aea14e",
   "metadata": {},
   "outputs": [
    {
     "data": {
      "text/plain": [
       "tensor([5.7716e+01, 9.6891e-01, 2.9669e-02], device='cuda:0')"
      ]
     },
     "execution_count": 12,
     "metadata": {},
     "output_type": "execute_result"
    }
   ],
   "source": [
    "# Verify the gradient still works\n",
    "torch.norm(drr).backward()\n",
    "source.grad, detector.center.grad"
   ]
  },
  {
   "cell_type": "code",
   "execution_count": null,
   "id": "3e450cdf",
   "metadata": {},
   "outputs": [],
   "source": []
  }
 ],
 "metadata": {
  "@webio": {
   "lastCommId": null,
   "lastKernelId": null
  },
  "kernelspec": {
   "display_name": "Python [conda env:DiffDRR]",
   "language": "python",
   "name": "conda-env-DiffDRR-py"
  },
  "language_info": {
   "codemirror_mode": {
    "name": "ipython",
    "version": 3
   },
   "file_extension": ".py",
   "mimetype": "text/x-python",
   "name": "python",
   "nbconvert_exporter": "python",
   "pygments_lexer": "ipython3",
   "version": "3.7.13"
  }
 },
 "nbformat": 4,
 "nbformat_minor": 5
}
